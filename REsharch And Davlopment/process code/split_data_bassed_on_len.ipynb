{
 "cells": [
  {
   "cell_type": "code",
   "execution_count": null,
   "id": "1a46e0f3",
   "metadata": {},
   "outputs": [
    {
     "name": "stdout",
     "output_type": "stream",
     "text": [
      "/home/tiyas/Documents/Code/games/English test game/Data Process/\n"
     ]
    }
   ],
   "source": [
    "import os\n",
    "current_dir = os.getcwd() + \"/\"\n",
    "path_to_data = current_dir + \"your_file_name.txt\"\n",
    "print(current_dir)\n",
    "\n",
    "def load_words(file_path:str = path_to_data):\n",
    "    \n",
    "    with open(file_path, 'r') as file_:\n",
    "         list_ = [line.strip() for line in file_]\n",
    "         return list_"
   ]
  },
  {
   "cell_type": "markdown",
   "id": "fb26276a",
   "metadata": {},
   "source": [
    "<h1>Fetch the data</h1>"
   ]
  },
  {
   "cell_type": "code",
   "execution_count": 41,
   "id": "49d685e3",
   "metadata": {},
   "outputs": [],
   "source": [
    "def split_by_len():\n",
    "        data_list = load_words()\n",
    "\n",
    "        def open_or_create_file_of_length(current_path:str = current_dir , word_to_incert:str = \"\"):\n",
    "            length = len(word_to_incert)\n",
    "            expected_path = current_path + f\"words_len_{length}_.txt\"\n",
    "            with open(mode='a' ,file=expected_path) as file:\n",
    "                    file.write(word_to_incert+\"\\n\")\n",
    "            return None\n",
    "\n",
    "        for i in data_list:\n",
    "            open_or_create_file_of_length(word_to_incert=i)\n"
   ]
  },
  {
   "cell_type": "markdown",
   "id": "1aee9084",
   "metadata": {},
   "source": [
    "<h3>Spleating the words by their length, so that the data become more organised to read and later process and iderntify and remove useless data's , like very long words etc etc.</h3>"
   ]
  },
  {
   "cell_type": "code",
   "execution_count": 42,
   "metadata": {},
   "outputs": [],
   "source": [
    "split_by_len()"
   ]
  },
  {
   "cell_type": "markdown",
   "id": "05df479b",
   "metadata": {},
   "source": [
    "<h1>This Part ends here</h1>"
   ]
  }
 ],
 "metadata": {
  "kernelspec": {
   "display_name": ".venv",
   "language": "python",
   "name": "python3"
  },
  "language_info": {
   "codemirror_mode": {
    "name": "ipython",
    "version": 3
   },
   "file_extension": ".py",
   "mimetype": "text/x-python",
   "name": "python",
   "nbconvert_exporter": "python",
   "pygments_lexer": "ipython3",
   "version": "3.12.3"
  }
 },
 "nbformat": 4,
 "nbformat_minor": 5
}
