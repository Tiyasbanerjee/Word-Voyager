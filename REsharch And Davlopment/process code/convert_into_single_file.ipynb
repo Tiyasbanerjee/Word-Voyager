{
 "cells": [
  {
   "cell_type": "code",
   "execution_count": 1,
   "id": "0c5bfa9c",
   "metadata": {},
   "outputs": [],
   "source": [
    "import json\n",
    "marge = {}\n",
    "\n",
    "for i in range(1,10+1):\n",
    "    file_name = f'level_{i}.json'\n",
    "    with open(file_name, 'r') as file:\n",
    "        data = json.load(file)\n",
    "        marge.update(data)\n",
    "\n",
    "with open(\"All_Eng_to_Bng.json\", 'w') as outfile:\n",
    "    json.dump(marge, outfile, indent=4 , ensure_ascii=False)"
   ]
  },
  {
   "cell_type": "markdown",
   "id": "ef17bc66",
   "metadata": {},
   "source": [
    "<h1>i truened all the 10 files into one</h1>"
   ]
  },
  {
   "cell_type": "code",
   "execution_count": null,
   "id": "ab82fd9f",
   "metadata": {},
   "outputs": [],
   "source": []
  },
  {
   "cell_type": "code",
   "execution_count": null,
   "id": "a6396edc",
   "metadata": {},
   "outputs": [],
   "source": []
  },
  {
   "cell_type": "code",
   "execution_count": null,
   "id": "14712fb6",
   "metadata": {},
   "outputs": [],
   "source": []
  }
 ],
 "metadata": {
  "kernelspec": {
   "display_name": ".venv",
   "language": "python",
   "name": "python3"
  },
  "language_info": {
   "codemirror_mode": {
    "name": "ipython",
    "version": 3
   },
   "file_extension": ".py",
   "mimetype": "text/x-python",
   "name": "python",
   "nbconvert_exporter": "python",
   "pygments_lexer": "ipython3",
   "version": "3.12.3"
  }
 },
 "nbformat": 4,
 "nbformat_minor": 5
}
