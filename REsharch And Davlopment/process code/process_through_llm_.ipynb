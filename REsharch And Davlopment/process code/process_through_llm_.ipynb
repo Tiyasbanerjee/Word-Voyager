{
 "cells": [
  {
   "cell_type": "code",
   "execution_count": null,
   "id": "35be496a",
   "metadata": {},
   "outputs": [],
   "source": [
    "from langchain_google_genai import ChatGoogleGenerativeAI\n",
    "from langchain_core.messages import HumanMessage, SystemMessage\n",
    "GOOGLE_API_KEY=\"your-gemini-2.5-flash api-key\"\n"
   ]
  },
  {
   "cell_type": "markdown",
   "id": "c0814c21",
   "metadata": {},
   "source": [
    "<h1>tokenized data are processed</h1>"
   ]
  },
  {
   "cell_type": "code",
   "execution_count": 2,
   "id": "32ac3ac3",
   "metadata": {},
   "outputs": [],
   "source": [
    "prompt_policy = \"\"\"\n",
    "You are a developer building a vocabulary-teaching game for students. You will be given up to 200 English tokens (single words or a whitespace/comma/newline/semicolon/pipe-separated list). Your job: for each token produce a Bengali rendering (a hint/meaning suitable for the game) and a pedagogical Hardness Score (integer 1-100), and return a single JSON object mapping token → [Bengali rendering, score].\n",
    "You must process the data any how and retern a json any how, you must and must process the data and retern a json!\n",
    "MANDATE — what this policy enforces (short)\n",
    "- MAXIMIZE COVERAGE: After tokenization/segmentation include translations/explanations for **as many tokens as possible**. Aim for **≥95%** coverage. Omit only when token hits the SAFETY FILTER or is non-linguistic garbage.\n",
    "- HINTS, NOT ANSWERS: Provide Bengali *hints/meanings* that are accurate but **do NOT leak the English word** by using obvious transliterations, acronyms, or English morpheme-strings. For technical items, explain what the thing *is or does* in natural Bengali — **avoid** including substrings or transliterations that directly reveal the English token (e.g., avoid \"ডিঅক্সি\", \"রাইবো\", \"নিউক্লি\", \"ডিএনএ\", \"ফেনাইল\", \"সাইক্লো\" etc. as primary text).\n",
    "- NO BARE TRANSLITERATION: Do not use phonetic Bengali transliteration as the primary output for semantically-rich tokens. Transliteration is allowed **only** for proper nouns/brands and then only as a short parenthetical adjunct — and only if absolutely necessary.\n",
    "- JSON ONLY: The model's sole output MUST be a single valid JSON object (UTF-8). No extra text or commentary.\n",
    "\n",
    "OUTPUT FORMAT (required)\n",
    "- One JSON object only.\n",
    "- Keys: the original English token **exactly** as you decide to process (preserve case/punctuation in the key).\n",
    "- Values: two-element array: [Bengali rendering (string, Bengali Unicode NFC), HardnessScore (integer 1-100)].\n",
    "- If a token is filtered by SAFETY, omit it silently (do not include nulls/placeholders).\n",
    "\n",
    "TOKENIZATION & SEGMENTATION (must-follow)\n",
    "1. Split raw input into candidate tokens on whitespace, commas, semicolons, pipes, tabs, newlines and punctuation (. , ; : ! ? / \\\\ ( ) [ ] { } \" ' `).\n",
    "2. Split CamelCase, snake_case, kebab-case into sub-tokens.\n",
    "3. If a candidate token length > 25 characters, attempt segmentation into plausible English words using common prefixes/suffixes/morphemes (e.g., deoxy, ribo, nucleo, -protein, cyclo-, -ene, -amine). Favor segmentations that yield more valid dictionary-like tokens and avoid tiny residues.\n",
    "4. Treat each resulting segment as an independent JSON key. Do NOT return one concatenated mega-key.\n",
    "\n",
    "INCLUSION & FALLBACK HIERARCHY (per token)\n",
    "Try to produce an output for each token using this order:\n",
    "A. Direct single-word Bengali equivalent (if natural and not revealing).\n",
    "B. Concise Bengali hint phrase (≤10 Bengali words) that describes category, function, or use — avoid including transliterated morphemes or acronyms that reveal the English token.\n",
    "C. Decomposition-based Bengali description that explains composition/function **without** reproducing English morphemes in Bengali script. (E.g., say \"জৈব প্রোটিন যা জেনেটিক উপাদানের সাথে যুক্ত\" instead of \"ডিএনএ-সংযুক্ত প্রোটিন\".)\n",
    "D. **LAST RESORT**: transliteration in Bengali script **only** for proper nouns/brands and only as a parenthetical AFTER a Bengali gloss: \"<Bengali gloss> (ট্রান্সলিট: <নাম>)\". Do NOT use transliteration for scientific/technical compounds as the primary hint.\n",
    "\n",
    "STRICT TECHNICAL-TERM RULES (chemical/biological/medical/engineering/etc.)\n",
    "- For any technical token, ALWAYS provide a short Bengali descriptive gloss that conveys class/composition/function in natural Bengali **without** inserting English morpheme transliterations or acronyms as the main clue.\n",
    "- If morpheme decomposition is helpful, express the meaning in Bengali words explaining components (e.g., \"প্রোটিন যা জেনেটিক উপাদানের সঙ্গে যুক্ত\" rather than \"ডিএনএ-সংযুক্ত প্রোটিন\").\n",
    "- Keep descriptions concise (recommended ≤10 Bengali words). Additional detail may be parenthetical but must still avoid revealing English stems.\n",
    "- Proper nouns only: allowed transliteration parenthetical (see fallback D).\n",
    "\n",
    "SAFETY FILTER (non-negotiable)\n",
    "- Omit tokens that are clearly inappropriate for children (sexually explicit, pornographic, graphic/instructional violent content). Examples: \"sex\", \"vagina\", \"penis\", \"porn\", \"rape\", \"murder\", \"torture\", \"abuse\".\n",
    "- Omit non-linguistic garbage (long runs of punctuation, numeric-only strings, unreadable binary).\n",
    "- When in doubt about appropriateness, prefer inclusion using a safe Bengali rendering rather than omission.\n",
    "\n",
    "HARDNESS SCORE (1-100) — concise rubric\n",
    "- Integer only. No floats.\n",
    "- Judge each token on an absolute pedagogical scale using these factors: frequency/commonness, length/syllables, morphological complexity, phonetic irregularity, conceptual abstractness, part of speech, familiarity in children’s media.\n",
    "- Suggested score bands:\n",
    "  * 1-15: very basic everyday words\n",
    "  * 16-35: common but slightly advanced\n",
    "  * 36-60: intermediate/multi-syllabic/abstract\n",
    "  * 61-80: advanced, rare, or long morphology\n",
    "  * 81-100: highly technical, specialized, or extremely rare\n",
    "- Bias scores ~10% downward when uncertain (avoid clustering at 90+).\n",
    "\n",
    "ENFORCED ANTI-LEAK RULES (do not reveal)\n",
    "- **MUST NOT** include transliterated English morphemes, acronyms, or obvious English-to-Bengali phonetic fragments as the primary hint (patterns such as ডি, ডি-অক্সি, রাইবো, নিউক্লি, ডিএনএ, সাইক্লো, ফেনাইল, ট্রাইফ্লুরো, হেক্সা etc. are disallowed at start of the hint).\n",
    "- **If** a candidate Bengali rendering contains as a substring a near-transliteration of the English token (character n-gram overlap), reject it and replace with a Bengali gloss that describes the item without those substrings.\n",
    "- **Do not** put the English word, parts of it, or obvious transliterations anywhere in the primary gloss. Parenthetical transliteration for proper nouns only.\n",
    "\n",
    "POST-PRODUCTION QA & SELF-CORRECTION (mandatory)\n",
    "After producing the JSON, run these checks; if any fail, regenerate/adjust before returning:\n",
    "1. **Transliteration-detection**: If a rendering begins with or contains obvious transliterated English morphemes or acronyms (see ENFORCED ANTI-LEAK RULES), replace it with a Bengali gloss-first rendering.\n",
    "2. **Substring match detection**: If the Bengali rendering contains a high-similarity transliteration of the original English token (character n-gram match), replace it.\n",
    "3. **Coverage check**: If included entries < 95% of token count (after segmentation and filtering), re-run with fallback hierarchy to increase coverage.\n",
    "4. **Score distribution check**: If >20% of included tokens have score ≥90, re-evaluate scores for spread.\n",
    "5. **Length check**: If a translation string > ~12 Bengali words, compress to ≤10 words; extra detail may be moved to a short parenthetical that still avoids revealing stems.\n",
    "6. **Format check**: Ensure every value is an array [string, integer]. If any value violates this, regenerate.\n",
    "\n",
    "EXAMPLES (required behavioral examples)\n",
    "- Input: `apple justice zen`\n",
    "  Output: {\"apple\": [\"একটি সাধারণ ফল\", 3], \"justice\": [\"ন্যায় বা ন্যায়বিচারের ধারণা\", 10], \"zen\": [\"দর্শনের একটি মনোভাব/ধ্যানমূলক পথ\", 45]}\n",
    "  (Note: hints are natural Bengali phrases that do NOT include English stems.)\n",
    "- Input: `deoxyribonucleoprotein dicyclopentadienyliron`\n",
    "  Output: {\n",
    "    \"deoxyribonucleoprotein\": [\"জিনগত উপাদানের সঙ্গে সংযুক্ত প্রোটিন (আণবিক স্তরে কাজ করা প্রোটিন)\", 78],\n",
    "    \"dicyclopentadienyliron\": [\"সাইক্লোপেন্টাডিয়েন রিংযুক্ত আয়রন-ভিত্তিক যৌগ (আয়রন-ভিত্তিক অর্গানিক যৌগ)\", 86]\n",
    "  }\n",
    "  (Make sure the primary gloss avoids direct English morpheme transliteration like 'ডিএনএ' or 'ডিক্লো' as the first clue. Use natural Bengali description.)\n",
    "\n",
    "ADDITIONAL NOTES\n",
    "- Prefer inclusion: when in doubt about translating a rare or technical token, include it with a short Bengali gloss that doesn't reveal English stems.\n",
    "- Transliteration is permitted only for proper nouns and only as a parenthetical adjunct — never as the primary hint for technical/lexical tokens.\n",
    "- STRICTLY return only a single JSON object mapping processed tokens to [BENGALI_HINT, HARDNESS_SCORE].\n",
    "- Must And Must process the data and retern a json! Must and Must process the data and retern a json! Must and Must process the data and retern a json!\n",
    "END OF POLICY.\n",
    "\"\"\"\n"
   ]
  },
  {
   "cell_type": "code",
   "execution_count": 3,
   "id": "afb94b12",
   "metadata": {},
   "outputs": [],
   "source": [
    "def structured_call(request:str, policy:str = prompt_policy) -> str:\n",
    "    llm = ChatGoogleGenerativeAI(model=\"gemini-2.5-flash\", api_key=GOOGLE_API_KEY)  #type: ignore\n",
    "    prompt = [SystemMessage(content=policy), HumanMessage(content=request)] #type: ignore\n",
    "    response = llm.invoke(prompt)   #type: ignore\n",
    "    return response.content   #type: ignore"
   ]
  },
  {
   "cell_type": "code",
   "execution_count": 4,
   "id": "efbaf0e6",
   "metadata": {},
   "outputs": [],
   "source": [
    "import ast\n",
    "import json\n",
    "def clearn_and_cheak(response:str):\n",
    "    try:\n",
    "            starting_index , last_index = response.index(\"{\") , response.index(\"}\")\n",
    "            \n",
    "            data = response[starting_index:last_index+1]\n",
    "            data = data.replace(\"'\" , '\"')\n",
    "            \n",
    "            try:\n",
    "                return json.loads(data)\n",
    "            except:\n",
    "                        try:\n",
    "                            return ast.literal_eval(data)\n",
    "                        except:\n",
    "                            print(\"2\")\n",
    "                            return None  \n",
    "    except:\n",
    "        print(\"1\")\n",
    "        return None\n"
   ]
  },
  {
   "cell_type": "code",
   "execution_count": 5,
   "id": "31792950",
   "metadata": {},
   "outputs": [
    {
     "name": "stdout",
     "output_type": "stream",
     "text": [
      "Runing for ---------- file_60\n"
     ]
    },
    {
     "name": "stderr",
     "output_type": "stream",
     "text": [
      "WARNING: All log messages before absl::InitializeLog() is called are written to STDERR\n",
      "E0000 00:00:1760076444.533864   13874 alts_credentials.cc:93] ALTS creds ignored. Not running on GCP and untrusted ALTS is not enabled.\n"
     ]
    },
    {
     "name": "stdout",
     "output_type": "stream",
     "text": [
      "{'sled': ['বরফের উপর দিয়ে টানার যান', 25], 'slee': ['কাপড় বোনার যন্ত্রাংশ', 65], 'sley': ['কাপড় বোনার যন্ত্রাংশ', 60], 'slew': ['অনেক পরিমাণে; দ্রুত ঘোরানো', 30], 'slid': ['পিছলে গিয়েছিল', 18], 'slik': ['মসৃণ বা চকচকে', 40], 'slim': ['পাতলা বা ছিপছিপে', 15], 'slip': ['পিছলে যাওয়া; ছোট কাগজের টুকরা', 12], 'slit': ['সরু ফাটল বা কাটা', 25], 'slob': ['অলস ও অগোছালো ব্যক্তি', 40], 'slod': ['ধীর গতিতে চলেছিল', 70], 'sloe': ['এক ধরণের ছোট কালো ফল', 55], 'slog': ['কঠোর পরিশ্রম করা; ধীর গতিতে চলা', 35], 'sloo': ['কাদা বা ধীরে চলা', 75], 'slop': ['তরল খাবার বা নোংরা জল', 30], 'slot': ['সরু ছিদ্র বা স্থান', 20], 'slow': ['ধীর গতিতে', 5], 'slub': ['কাপড়ের সুতার ত্রুটি', 65], 'slud': ['কাদা বা পলি', 70], 'slue': ['ঘোরানো বা মোড়ানো', 50], 'slug': ['শামুক জাতীয় প্রাণী; ধাতব টুকরা', 35], 'slum': ['বস্তি এলাকা', 28], 'slur': ['অস্পষ্ট কথা; অপমানজনক মন্তব্য', 40], 'smee': ['এক ধরণের হাঁস', 60], 'smew': ['এক ধরণের ছোট হাঁস', 60], 'smit': ['আঘাত করেছিল', 50], 'smog': ['ধোঁয়া ও কুয়াশার মিশ্রণ', 35], 'smug': ['আত্মসন্তুষ্ট', 45], 'smut': ['কালি বা ময়লা', 45], 'snab': ['হঠাৎ ধরা বা কাটা', 70], 'snag': ['অপ্রত্যাশিত বাধা; ধারালো অংশ', 35], 'snap': ['হঠাৎ ভাঙা; ছবি তোলা', 18], 'snaw': ['বরফ', 60], 'sneb': ['অবজ্ঞা করা', 70], 'sned': ['একটি কাস্তে হাতল', 70], 'snee': ['হাঁচি', 65], 'snew': ['বরফ পড়েছিল', 60], 'snib': ['একটি ছোট তালা বা আটকানোর যন্ত্র', 70], 'snye': ['একটি ছোট চ্যানেল বা খাঁড়ি', 75], 'snig': ['কাঠ টেনে নিয়ে যাওয়া', 65], 'snip': ['ছোট করে কাটা', 25], 'snit': ['বিরক্তি বা রাগের মুহূর্ত', 55], 'snob': ['সামাজিক উচ্চাকাঙ্ক্ষী ব্যক্তি', 40], 'snod': ['পরিষ্কার বা মসৃণ', 70], 'snog': ['চুম্বন ও আলিঙ্গন করা', 45], 'snot': ['নাক থেকে বের হওয়া শ্লেষ্মা', 45], 'snow': ['বরফ', 5], 'snub': ['অবজ্ঞা করা', 35], 'snug': ['আরামদায়ক ও উষ্ণ', 20], 'soak': ['ভেজানো বা শুষে নেওয়া', 15], 'soam': ['একটি দড়ি বা শৃঙ্খল', 70], 'soap': ['সাবান', 8], 'soar': ['উঁচুতে উড়ে যাওয়া', 25], 'sobs': ['কান্নার শব্দ', 15], 'soce': ['সঙ্গী বা সহযোগী', 75], 'sock': ['মোজা; আঘাত করা', 10], 'soda': ['এক ধরণের পানীয়; ক্ষারীয় পদার্থ', 15], 'sody': ['সোডা সম্পর্কিত', 60], 'sods': ['ঘাসের টুকরা', 40], 'sofa': ['বসার জন্য লম্বা নরম আসন', 10], 'soft': ['নরম বা কোমল', 5], 'soho': ['লন্ডনের একটি এলাকা', 50], 'soya': ['এক ধরণের ডাল জাতীয় শস্য', 30], 'soil': ['মাটি', 10], 'soir': ['সন্ধ্যা', 60], 'soys': ['সয়াবিন থেকে তৈরি পণ্য', 35], 'soja': ['সয়াবিন', 30], 'soke': ['একটি বিচারিক এলাকা', 75], 'sola': ['এক ধরণের উদ্ভিদ', 60], 'sold': ['বিক্রি করা হয়েছে', 10], 'sole': ['পায়ের তলা; একমাত্র', 15], 'soli': ['একাকী পরিবেশনা', 55], 'soln': ['সমাধান', 50], 'solo': ['একা করা বা পরিবেশন করা', 20], 'sols': ['সমাধানসমূহ; মঙ্গল গ্রহের দিন', 55], 'solv': ['সমাধান করা', 40], 'soma': ['শরীর; এক ধরণের উদ্ভিদ', 60], 'some': ['কিছু বা কয়েকটা', 5], 'sond': ['গভীরতা পরিমাপ করা', 70], 'sone': ['শব্দের তীব্রতার একক', 75], 'song': ['গান', 3], 'sons': ['পুত্ররা', 8], 'sook': ['বাছুর ডাকার শব্দ', 65], 'sool': ['কুকুরকে উত্তেজিত করা', 70], 'soon': ['শীঘ্রই', 5], 'soot': ['ঝুল বা কালি', 25]}\n",
      "Done\n",
      "Runing for ---------- file_61\n"
     ]
    },
    {
     "name": "stderr",
     "output_type": "stream",
     "text": [
      "E0000 00:00:1760076507.276827   13874 alts_credentials.cc:93] ALTS creds ignored. Not running on GCP and untrusted ALTS is not enabled.\n"
     ]
    },
    {
     "name": "stdout",
     "output_type": "stream",
     "text": [
      "{'sope': ['সাবান বা অনুরূপ পরিষ্কারক', 15], 'soph': ['দ্বিতীয় বর্ষের ছাত্র/ছাত্রী (সংক্ষিপ্ত)', 40], 'sops': ['তরল বা ঝোলে ভেজানো টুকরা; তুষ্ট করার উপকরণ', 35], 'sora': ['এক ধরণের পাখি বা জাপানি নাম', 50], 'sorb': ['শোষণ করা বা ধারণ করা', 60], 'sord': ['নোংরা বা ঘাসযুক্ত জমি (প্রাচীন)', 70], 'sore': ['বেদনাদায়ক; ঘা', 10], 'sori': ['উদ্ভিদের স্পোরাঙ্গিয়া গুচ্ছ', 85], 'sory': ['দুঃখিত বা অনুতপ্ত (প্রাচীন)', 70], 'sorn': ['বিনা পয়সায় অন্যের আশ্রয়ে থাকা (প্রাচীন)', 75], 'sort': ['সাজানো; প্রকার', 10], 'sosh': ['সামাজিক কার্যকলাপ বা পড়াশোনা (কথ্য)', 40], 'soso': ['মোটামুটি; মন্দ নয়', 25], 'soss': ['অলসভাবে বসা; মেশানো (কথ্য)', 70], 'soth': ['সত্য বা বাস্তবতা (প্রাচীন)', 75], 'sots': ['মদ্যপ ব্যক্তিরা', 45], 'soud': ['শব্দ করা বা সাঁতার কাটা (প্রাচীন)', 70], 'souk': ['আরব দেশগুলোর বাজার', 50], 'soul': ['আত্মা; প্রাণ', 20], 'soum': ['চারাভূমির পরিমাপের একক', 80], 'soup': ['তরল খাদ্য', 5], 'sour': ['টক; অম্ল', 10], 'sous': ['অধীনে; সহকারী (ফরাসি)', 40], 'sowf': ['শিস দেওয়া বা দীর্ঘশ্বাস ফেলা (উপভাষা)', 70], 'sowl': ['কান ধরে টানা (উপভাষা)', 75], 'sown': ['বীজ বপন করা হয়েছে', 25], 'sows': ['স্ত্রী শূকর; বীজ বপন করে (বহুবচন/ক্রিয়া)', 20], 'sowt': ['অনুসন্ধান করা হয়েছে (উপভাষা)', 70], 'spad': ['এক ধরণের ছোট কোদাল বা বিমান', 60], 'spae': ['ভবিষ্যদ্বাণী করা (প্রাচীন/স্কটিশ)', 70], 'spag': ['এক ধরণের পাস্তা (কথ্য)', 30], 'spay': ['স্ত্রী প্রাণীর ডিম্বাশয় অপসারণ করা', 65], 'spak': ['কথা বলেছিল (উপভাষা)', 70], 'spam': ['অবাঞ্ছিত ইমেল; টিনজাত মাংস', 20], 'span': ['জুড়ে থাকা; পরিধি', 15], 'spar': ['মোটা খুঁটি; বক্সিং অনুশীলন করা', 30], 'spas': ['খনিজ জলের উৎস বা আরামের স্থান', 25], 'spat': ['থুতু ফেলেছিল; ছোট ঝগড়া; জুতার আচ্ছাদন', 25], 'spec': ['নির্দিষ্ট বিবরণ বা বৈশিষ্ট্য (সংক্ষিপ্ত)', 35], 'sped': ['দ্রুত চলেছিল', 15], 'spet': ['থুতু ফেলেছিল (প্রাচীন)', 70], 'spew': ['জোর করে বের করা', 30], 'spex': ['চশমা (কথ্য)', 35], 'spif': ['পরিপাটি করা; স্মার্ট করা (কথ্য)', 55], 'spig': ['নল বা ট্যাপ (কথ্য)', 40], 'spin': ['ঘোরানো; সুতা কাটা', 10], 'spit': ['থুতু ফেলা; লোহার শলাকা', 15], 'spiv': ['অসৎ উপায়ে অর্থ উপার্জনকারী ব্যক্তি', 60], 'spor': ['প্রজনন কোষ বা বীজাণু', 65], 'spot': ['দাগ; নির্দিষ্ট স্থান', 10], 'spry': ['চটপটে; প্রাণবন্ত', 30], 'spud': ['আলু (কথ্য); এক ধরণের কোদাল', 35], 'spue': ['জোর করে বের করা (প্রাচীন)', 70], 'spug': ['এক ধরণের চড়ুই পাখি (উপভাষা)', 75], 'spun': ['ঘোরানো হয়েছে; সুতা কাটা হয়েছে', 20], 'spur': ['ঘোড়ার কাঁটা; উৎসাহিত করা', 30], 'sput': ['থুতু ফেলা বা ছিটানো (উপভাষা)', 70], 'sqrt': ['বর্গমূল (গণিতের সংক্ষিপ্ত রূপ)', 60], 'sris': ['শ্রদ্ধেয় ব্যক্তি বা উপাধি (সংস্কৃত)', 50], 'stab': ['ধারালো কিছু দিয়ে বিদ্ধ করা', 25], 'stad': ['খেলার মাঠ বা স্টেডিয়াম (সংক্ষিপ্ত)', 40], 'stag': ['পুরুষ হরিণ; শুধু পুরুষদের জন্য অনুষ্ঠান', 25], 'stay': ['থাকা; সমর্থন', 5], 'stan': ['অত্যুৎসাহী ভক্ত (আধুনিক কথ্য)', 40], 'stap': ['থামানো (প্রাচীন)', 70], 'star': ['নক্ষত্র; তারকা', 5], 'stat': ['অবিলম্বে; পরিসংখ্যান (সংক্ষিপ্ত)', 30], 'staw': ['চুরি করা (উপভাষা)', 70], 'stbd': ['জাহাজের ডান দিক (নৌ-সংক্ষিপ্ত রূপ)', 65], 'steg': ['একটি ডাইনোসরের নাম (সংক্ষিপ্ত)', 50], 'stey': ['খাড়া; কঠিন (প্রাচীন/স্কটিশ)', 70], 'stem': ['গাছের কাণ্ড; উৎস; প্রবাহ বন্ধ করা', 15], 'sten': ['এক ধরণের সাবমেশিন বন্দুক', 60], 'step': ['পদক্ষেপ; ধাপ', 5], 'ster': ['একটি উপাধি বা পদবী নির্দেশক', 60], 'stet': ['যেমন আছে তেমনই থাকুক (মুদ্রণ শিল্প)', 65], 'stew': ['ধীরে রান্না করা খাবার; দুশ্চিন্তা', 20], 'stge': ['পর্যায় বা স্তর (সংক্ষিপ্ত)', 40], 'stib': ['একটি রাসায়নিক উপাদান (অ্যান্টিমনি)', 80], 'stid': ['স্থান বা জায়গা (উপভাষা)', 70], 'stye': ['চোখের পাতার ফোঁড়া', 45], 'stim': ['উদ্দীপক বা উদ্দীপনা (সংক্ষিপ্ত)', 40], 'stir': ['নাড়ানো; উত্তেজনা সৃষ্টি করা', 10], 'styx': ['গ্রীক পুরাণের একটি নদী', 50], 'stlg': ['ব্রিটিশ মুদ্রার একক (স্টার্লিং)', 60], 'stoa': ['প্রাচীন গ্রীক স্থাপত্যের ঢাকা পথ', 70], 'stob': ['খুঁটি বা লাঠি; বিদ্ধ করা (উপভাষা)', 65], 'stod': ['দাঁড়িয়েছিল (প্রাচীন)', 70], 'stog': ['ঘন বা আটকে দেওয়া; একটি চুরুট (কথ্য)', 60], 'stop': ['থামা; বিরতি', 5], 'stor': ['দোকান বা সঞ্চয় করা (সংক্ষিপ্ত)', 30], 'stot': ['লাফানো; একটি অল্পবয়সী ষাঁড় (উপভাষা)', 70], 'stow': ['গুছিয়ে রাখা; সংরক্ষণ করা', 25], 'stra': ['দিক বা পথ নির্দেশক (উপসর্গ)', 70]}\n",
      "Done\n",
      "Runing for ---------- file_62\n"
     ]
    },
    {
     "name": "stderr",
     "output_type": "stream",
     "text": [
      "E0000 00:00:1760076560.639444   13874 alts_credentials.cc:93] ALTS creds ignored. Not running on GCP and untrusted ALTS is not enabled.\n"
     ]
    },
    {
     "name": "stdout",
     "output_type": "stream",
     "text": [
      "{'stub': ['গোঁড়া, অবশিষ্ট অংশ', 25], 'stud': ['পুরুষ ঘোড়া, ছোট পিন, পুঁতি', 30], 'stun': ['হতবাক করা, স্তম্ভিত করা', 35], 'subs': ['গ্রাহক, বিকল্প', 30], 'such': ['এমন, এইরকম', 5], 'suck': ['চুষা', 20], 'suds': ['সাবানের ফেনা', 40], 'sued': ['মামলা করা হয়েছিল', 35], 'suer': ['মামলাকারী', 50], 'sues': ['মামলা করে', 35], 'suet': ['চর্বি', 55], 'suez': ['ভূমধ্যসাগর ও লোহিত সাগর সংযোগকারী খাল (সুয়েজ)', 60], 'sufi': ['ইসলামের একটি আধ্যাত্মিক ধারা (সুফি)', 65], 'sugi': ['জাপানি সিডার গাছ', 70], 'suid': ['শূকর পরিবারের প্রাণী', 75], 'suit': ['পোশাক, মামলা, মানানসই হওয়া', 25], 'suji': ['এক প্রকার গমজাত খাদ্য উপাদান', 30], 'sula': ['এক প্রকার সামুদ্রিক পাখি', 70], 'sulk': ['গোমড়া মুখ করে থাকা', 40], 'sulu': ['ফিলিপাইনের একটি অঞ্চল বা জাতি', 65], 'sumi': ['জাপানি কালি চিত্রকলার ধরন', 70], 'sumo': ['জাপানি কুস্তি খেলা', 55], 'sump': ['তেল বা জল জমার স্থান', 50], 'sums': ['যোগফল, পরিমাণ', 20], 'sung': ['গাওয়া হয়েছিল', 25], 'sunk': ['ডুবে যাওয়া', 25], 'sunn': ['এক প্রকার উদ্ভিদ তন্তু', 70], 'suns': ['সূর্য', 10], 'supe': ['তত্ত্বাবধায়ক বা পরিচালক (অনানুষ্ঠানিক)', 55], 'sups': ['চুমুক দেয়', 30], 'supt': ['তত্ত্বাবধায়ক (সংক্ষিপ্ত রূপ)', 55], 'sura': ['কুরআনের একটি অধ্যায়', 60], 'surd': ['অমূলদ সংখ্যা', 75], 'sure': ['নিশ্চিত', 5], 'surf': ['ঢেউয়ের উপর দিয়ে চলা, ইন্টারনেট ব্যবহার করা', 30], 'suss': ['সন্দেহ করা বা বুঝতে পারা', 50], 'susu': ['এক প্রকার মিঠাপানির ডলফিন', 70], 'subj': ['বিষয় বা কর্তা (সংক্ষেপ)', 45], 'suff': ['পর্যাপ্ত বা কষ্ট (সংক্ষেপ)', 45], 'sugg': ['পরামর্শ দেওয়া (সংক্ষেপ)', 45], 'suku': ['ইন্দোনেশিয়ার মুদ্রা বা জাতিগোষ্ঠী', 70], 'supp': ['পরিপূরক বা সমর্থন (সংক্ষেপ)', 45], 'supr': ['উচ্চতর বা সর্বোচ্চ (সংক্ষেপ)', 45], 'surg': ['অস্ত্রোপচার বা সার্জন (সংক্ষেপ)', 55], 'surv': ['জরিপ বা নজরদারি (সংক্ষেপ)', 55], 'svce': ['সেবা (সংক্ষেপ)', 45], 'svgs': ['স্কেলেবল ভেক্টর গ্রাফিক্সের একাধিক ফাইল', 80], 'swab': ['মোছার জন্য ব্যবহৃত উপকরণ', 45], 'swag': ['চুরি করা জিনিস, শৈলী', 40], 'sway': ['দোলানো, প্রভাবিত করা', 30], 'swam': ['সাঁতার কেটেছিল', 20], 'swan': ['রাজহাঁস', 25], 'swap': ['অদলবদল করা', 35], 'swat': ['আঘাত করা', 30], 'swig': ['বড় চুমুক', 45], 'swim': ['সাঁতার কাটা', 15], 'swob': ['মোছার জন্য ব্যবহৃত উপকরণ', 45], 'swop': ['অদলবদল করা', 35], 'swot': ['কঠোর পরিশ্রম করে পড়াশোনা করা', 50], 'swum': ['সাঁতার কেটেছিল', 20], 'taal': ['ভারতীয় শাস্ত্রীয় সঙ্গীতের তাল', 60], 'tabi': ['জাপানি মোজা', 65], 'tabs': ['ট্যাব, হিসাব', 30], 'tabu': ['নিষিদ্ধ', 45], 'tach': ['ঘূর্ণন গতি মাপার যন্ত্র (সংক্ষিপ্ত রূপ)', 65], 'tack': ['ছোট পেরেক, কৌশল, পাল তোলা', 35], 'taco': ['মেক্সিকান খাবার বিশেষ', 40], 'tact': ['কৌশল, বিচক্ষণতা', 45], 'taar': ['তার বা ভারতীয় বাদ্যযন্ত্রের তাল', 55], 'stre': ['কোনো কিছুর শক্তি বা প্রসার বোঝাতে ব্যবহৃত উপসর্গ', 60], 'stug': ['একটি সুইডিশ সামরিক যান (স্টুগ)', 80], 'stum': ['এক প্রকার আঙ্গুরের রস', 70], 'stue': ['সিদ্ধ করা বা তরকারি (প্রাচীন বানান)', 70], 'stut': ['তোতলানো (সম্ভাব্য বানান)', 65], 'suba': ['জলের নিচে সম্পর্কিত (উপসর্গ)', 60], 'sudd': ['ভাসমান উদ্ভিদ দ্বীপ', 75], 'suey': ['চপ সুয়ে নামক খাবারের অংশ', 60], 'subg': ['উপগোষ্ঠী (সংক্ষেপ)', 60], 'supa': ['খুব ভালো বা সর্বোচ্চ (অনানুষ্ঠানিক)', 50], 'tace': ['নীরব থাকা (ল্যাটিন শব্দ)', 85]}\n",
      "Done\n",
      "Runing for ---------- file_63\n"
     ]
    },
    {
     "name": "stderr",
     "output_type": "stream",
     "text": [
      "E0000 00:00:1760076639.092785   13874 alts_credentials.cc:93] ALTS creds ignored. Not running on GCP and untrusted ALTS is not enabled.\n"
     ]
    },
    {
     "name": "stdout",
     "output_type": "stream",
     "text": [
      "{'tads': ['ছোট পরিমাণ', 40], 'tael': ['প্রাচীন চীনা ওজন বা মুদ্রার একক', 65], 'taen': ['ফিতার মতো কৃমি', 70], 'taft': ['একটি নাম বা পদবি', 50], 'tags': ['চিহ্ন বা লেবেল', 8], 'taha': ['একটি পুরুষ নাম', 45], 'tahr': ['হিমালয়ের একটি পাহাড়ি ছাগল', 60], 'taig': ['বনাঞ্চল বা বনভূমি', 65], 'tail': ['লেজ', 3], 'tain': ['দাগ লাগানো বা কলঙ্কিত করা', 60], 'tait': ['একটি পদবি', 45], 'taka': ['বাংলাদেশের মুদ্রা', 20], 'take': ['নেওয়া', 5], 'taky': ['আঠালো বা রুচিহীন', 60], 'takt': ['স্পর্শের অনুভূতি বা ছন্দ', 65], 'taku': ['একটি নাম বা শব্দ', 70], 'tala': ['একটি গাছ বা পৌরাণিক নাম', 60], 'talc': ['একটি নরম খনিজ পদার্থ', 55], 'tald': ['অপরিচিত শব্দ', 80], 'tale': ['গল্প', 5], 'tali': ['একটি নাম বা শব্দ', 70], 'talk': ['কথা বলা', 5], 'tall': ['লম্বা', 3], 'tama': ['একটি নাম বা জাপানি বাদ্যযন্ত্রের ব্র্যান্ড', 50], 'tame': ['পোষ মানানো বা বশ করা', 15], 'tamp': ['চেপে বসানো বা ঠাসা', 40], 'tams': ['মাথার টুপি', 35], 'tana': ['একটি নাম বা স্থান', 45], 'tane': ['একটি নাম বা শব্দ', 70], 'tang': ['তীব্র স্বাদ বা গন্ধ, অথবা ধারালো অংশ', 30], 'tanh': ['একটি গাণিতিক ফাংশন', 85], 'tank': ['জলাধার বা সাঁজোয়া যান', 10], 'tano': ['একটি নাম বা শব্দ', 70], 'tans': ['বাদামী রঙ বা চামড়া প্রক্রিয়াকরণ', 25], 'taos': ['উত্তর আমেরিকার একটি আদিবাসী গোষ্ঠী বা স্থান', 60], 'tapa': ['গাছের ছাল থেকে তৈরি কাপড়', 65], 'tape': ['আঠালো ফিতা বা রেকর্ড করার ফিতা', 10], 'taps': ['কল বা হালকা টোকা', 10], 'tapu': ['পবিত্র বা নিষিদ্ধ করার ধারণা', 70], 'tara': ['তারা (নক্ষত্র) বা একটি নাম', 15], 'tare': ['পাত্রের ওজন বা আগাছা', 40], 'tari': ['একটি নাম বা শব্দ', 70], 'tarn': ['ছোট পাহাড়ি হ্রদ', 55], 'taro': ['একটি গ্রীষ্মমণ্ডলীয় মূলজাতীয় সবজি', 45], 'tarp': ['জলরোধী মোটা কাপড়', 35], 'tarr': ['একটি নাম বা শব্দ', 70], 'tars': ['পিচ বা আলকাতরা', 30], 'tart': ['টক স্বাদযুক্ত বা ছোট পিঠা', 25], 'tash': ['গোঁফ (কথ্য শব্দ)', 60], 'task': ['কাজ বা দায়িত্ব', 8], 'tass': ['এক ধরনের পানপাত্র বা পেয়ালা', 65], 'tasu': ['একটি নাম বা শব্দ', 70], 'tate': ['একটি পদবি বা শিল্প গ্যালারি', 45], 'tath': ['একটি পথ বা রাস্তা', 70], 'tats': ['ছোট টুকরা বা উল্কি', 40], 'tatu': ['একটি বর্মযুক্ত প্রাণী (আর্মাদিলো)', 60], 'taum': ['একটি কণা বা নাম', 80], 'taun': ['একটি নাম বা শব্দ', 70], 'taur': ['ষাঁড় সম্পর্কিত বা একটি প্রাচীন শব্দ', 75], 'taus': ['গ্রীক বর্ণমালার একটি অক্ষর', 60], 'taut': ['টানটান বা দৃঢ়ভাবে প্রসারিত', 35], 'tave': ['চামড়া প্রক্রিয়াজাত করা (প্রাচীন শব্দ)', 70], 'tavy': ['একটি নাম বা শব্দ', 70], 'tavs': ['হিব্রু বর্ণমালার একটি অক্ষর', 60], 'tawa': ['একটি নাম বা কাঠের প্রকার', 70], 'tawn': ['বাদামী রঙ বা চামড়া রঙ করা (প্রাচীন শব্দ)', 65], 'taws': ['কাঁচের গুলি বা চামড়ার ফিতা', 50], 'taxa': ['জৈবিক শ্রেণিবিন্যাসের একক', 75], 'taxi': ['ভাড়ায় চালিত গাড়ি', 10], 'taxy': ['ভাড়ায় চালিত গাড়ি বা কর সম্পর্কিত', 50], 'tbsp': ['খাবার চামচ (একক পরিমাপ)', 40], 'tche': ['একটি নাম বা শব্দ', 70], 'tchi': ['একটি নাম বা শব্দ', 70], 'tchr': ['শিক্ষক (সংক্ষিপ্ত রূপ)', 40], 'tchu': ['একটি নাম বা শব্দ', 70], 'tead': ['মশাল বা প্রদীপ (প্রাচীন শব্দ)', 70], 'teak': ['সেগুন কাঠ', 30], 'teal': ['একটি নীল-সবুজ রঙ বা এক ধরনের হাঁস', 35], 'team': ['দল', 8], 'tean': ['একটি নাম বা শব্দ', 70], 'teap': ['একটি নাম বা শব্দ', 70], 'tear': ['ছিঁড়ে ফেলা বা চোখের জল', 15], 'teas': ['চা পানীয়', 5], 'teat': ['স্তনের অগ্রভাগ বা বোঁটা', 40], 'tebu': ['একটি উদ্ভিদ বা নাম', 70], 'teca': ['একটি নাম বা শব্দ', 70], 'tech': ['প্রযুক্তি বা কারিগরি বিষয়', 25], 'teck': ['একটি নাম বা কাঠের প্রকার', 60], 'teco': ['একটি সংস্থা বা সংক্ষিপ্ত রূপ', 65], 'teda': ['একটি নাম বা শব্দ', 70], 'teds': ['শুকানোর জন্য খড় ছড়ানো', 60], 'teed': ['গল্ফ খেলায় বল স্থাপন করা', 50], 'teel': ['তিল বীজ বা একটি নাম', 60], 'teem': ['পরিপূর্ণ হওয়া বা উপচে পড়া', 40], 'teen': ['কিশোর বা ১৩ থেকে ১৯ সংখ্যা সম্পর্কিত', 15], 'teer': ['একটি তীর বা প্রাচীন শব্দ', 70], 'tees': ['গল্ফ বল রাখার স্থান বা T-আকৃতির জিনিস', 30], 'teet': ['স্তনের অগ্রভাগ বা বোঁটা', 60], 'teff': ['একটি শস্যজাতীয় ফসল', 55], 'tega': ['একটি নাম বা শব্দ', 70]}\n",
      "Done\n",
      "Runing for ---------- file_64\n"
     ]
    },
    {
     "name": "stderr",
     "output_type": "stream",
     "text": [
      "E0000 00:00:1760076689.426158   13874 alts_credentials.cc:93] ALTS creds ignored. Not running on GCP and untrusted ALTS is not enabled.\n"
     ]
    },
    {
     "name": "stdout",
     "output_type": "stream",
     "text": [
      "{'tegg': ['দুই বছর বয়সী ভেড়া', 65], 'tegs': ['দুই বছর বয়সী ভেড়াগুলো', 65], 'teil': ['এক ধরণের গাছ (লাইম বা লিন্ডেন)', 60], 'teju': ['এক ধরণের দক্ষিণ আমেরিকান টিকটিকি', 70], 'tela': ['পাতলা পর্দা বা টিস্যু', 75], 'tele': ['দূরবর্তী বা দূরের (উপসর্গ)', 40], 'teli': ['একটি অপরিচিত শব্দ বা নাম', 90], 'tell': ['বলা বা জানানো', 5], 'telt': ['বলেছিল (পুরাতন ব্যবহার)', 70], 'tema': ['বিষয় বা মূলভাব', 30], 'temp': ['অস্থায়ী বা সাময়িক কর্মী', 20], 'tend': ['ঝোঁকা বা যত্ন নেওয়া', 15], 'teng': ['একটি প্রাচীন চীনা পাত্র বা পারিবারিক নাম', 80], 'tens': ['দশের একক বা দশগুলো', 5], 'tent': ['তাঁবু', 10], 'tepa': ['একটি অপরিচিত শব্দ বা নাম', 90], 'tepe': ['একটি অপরিচিত শব্দ বা নাম', 90], 'tera': ['এক ট্রিলিয়ন (১০^১২) এর উপসর্গ', 60], 'teri': ['একটি অপরিচিত শব্দ বা নাম', 90], 'term': ['শব্দ, পদ বা সময়কাল', 10], 'tern': ['এক ধরণের সামুদ্রিক পাখি', 40], 'terp': ['দোভাষী (সংক্ষিপ্ত রূপ)', 60], 'terr': ['পৃথিবী সম্পর্কিত (উপসর্গ) বা একটি অপরিচিত শব্দ', 80], 'tess': ['একটি মেয়ের নাম (থেরেসা এর সংক্ষিপ্ত রূপ)', 70], 'test': ['পরীক্ষা বা পরীক্ষা করা', 5], 'tete': ['মাথা (ফরাসি শব্দ), মুখোমুখি আলোচনায় ব্যবহৃত', 60], 'teth': ['হিব্রু বর্ণমালার একটি অক্ষর', 75], 'teuk': ['একটি অপরিচিত শব্দ বা নাম', 90], 'tewa': ['নেটিভ আমেরিকান জাতিগোষ্ঠী ও তাদের ভাষা', 75], 'tews': ['কঠোর পরিশ্রম করা (ক্রিয়ার পুরাতন রূপ)', 80], 'text': ['লেখা বা মূল পাঠ্য', 10], 'thad': ['একটি অপরিচিত শব্দ বা নাম', 90], 'thae': ['তারা বা সেগুলো (পুরাতন ব্যবহার)', 70], 'thai': ['থাইল্যান্ডের বা থাই ভাষা/মানুষের', 30], 'thak': ['একটি অপরিচিত শব্দ বা নাম', 90], 'than': ['চেয়ে (তুলনা অর্থে)', 5], 'thar': ['হিমালয়ের বন্য ছাগল', 70], 'that': ['যে, ওই বা সেটি', 3], 'thaw': ['গলে যাওয়া বা বরফমুক্ত হওয়া', 20], 'thea': ['চা গাছের প্রজাতি (একটি উদ্ভিদ শ্রেণী)', 70], 'theb': ['একটি অপরিচিত শব্দ বা নাম', 90], 'thed': ['একটি অপরিচিত শব্দ বা নাম', 90], 'thee': ['তোমাকে বা আপনাকে (পুরাতন ব্যবহার)', 60], 'they': ['তারা', 3], 'them': ['তাদের বা ওদের', 3], 'then': ['তখন বা তারপর', 5], 'theo': ['ঈশ্বর সম্পর্কিত (উপসর্গ)', 50], 'thew': ['পেশী বা শক্তি (পুরাতন ব্যবহার)', 70], 'thig': ['ভিক্ষা চাওয়া (পুরাতন ব্যবহার)', 80], 'thin': ['পাতলা বা সরু', 5], 'thio': ['সালফার সম্পর্কিত (রাসায়নিক উপসর্গ)', 70], 'thir': ['তাদের (পুরাতন ব্যবহার)', 70], 'this': ['এই বা এটি', 3], 'thob': ['একটি অপরিচিত শব্দ বা নাম', 90], 'thof': ['যদিও (পুরাতন ব্যবহার)', 80], 'thon': ['ওই বা সেটা (পুরাতন/আঞ্চলিক)', 70], 'thoo': ['একটি অপরিচিত শব্দ বা নাম', 90], 'thor': ['বজ্রের নর্স দেবতা', 50], 'thos': ['সেগুলো (পুরাতন ব্যবহার)', 70], 'thou': ['তুমি বা আপনি (পুরাতন ব্যবহার)', 60], 'thow': ['বরফ গলে যাওয়া (আঞ্চলিক)', 75], 'thro': ['মধ্য দিয়ে (কাব্যিক/পুরাতন)', 65], 'thru': ['মধ্য দিয়ে (অনানুষ্ঠানিক)', 15], 'thud': ['ধপাস শব্দ', 25], 'thug': ['গুণ্ডা বা দুর্বৃত্ত', 30], 'thus': ['এইভাবে বা সুতরাং', 20], 'tiam': ['একটি অপরিচিত শব্দ বা নাম', 90], 'tiao': ['একটি অপরিচিত শব্দ বা নাম', 90], 'tiar': ['মুকুট বা শিরোভূষণ (বিরল রূপ)', 75], 'tice': ['প্রলুব্ধ করা বা আকর্ষণ করা (পুরাতন/আঞ্চলিক)', 70], 'tick': ['টিকটিক শব্দ, টিক চিহ্ন বা এক ধরণের পোকা', 15], 'tics': ['পেশীর অস্বাভাবিক সংকোচন', 50], 'tide': ['জোয়ার-ভাটা বা স্রোত', 15], 'tidi': ['একটি অপরিচিত শব্দ বা নাম', 90], 'tidy': ['পরিপাটি বা গোছানো', 10], 'tied': ['বাঁধা বা যুক্ত করা হয়েছিল', 10], 'tyee': ['এক ধরণের বড় স্যামন মাছ বা নেতা (আঞ্চলিক)', 75], 'tien': ['একটি অপরিচিত শব্দ বা নাম', 90], 'tier': ['সারি বা স্তর', 20], 'ties': ['বন্ধন, সম্পর্ক বা বাঁধা', 10], 'tyes': ['বন্ধন, সম্পর্ক বা বাঁধা (বিরল রূপ)', 70], 'tiff': ['ছোটখাটো ঝগড়া বা অভিমান', 40], 'tift': ['সামান্য ঝগড়া বা মেজাজ খারাপ (বিরল)', 75], 'tige': ['একটি অপরিচিত শব্দ বা নাম', 90], 'tike': ['দুষ্টু ছোট শিশু বা কুকুর', 50], 'tyke': ['দুষ্টু ছোট শিশু বা কুকুর', 50], 'tiki': ['পলিনেশিয়ান পৌরাণিক মূর্তি বা প্রতীক', 65], 'tile': ['টাইলস বা টালি', 10], 'till': ['পর্যন্ত, জমি চাষ করা বা নগদ রাখার বাক্স', 15], 'tils': ['তিল বীজ বা যতক্ষণ না (সংক্ষিপ্ত রূপ)', 50], 'tilt': ['হেলানো বা একদিকে বাঁকানো', 20], 'time': ['সময়', 3], 'timo': ['একটি অপরিচিত শব্দ বা নাম', 90], 'tymp': ['কানের পর্দা (সংক্ষিপ্ত রূপ)', 70], 'tina': ['একটি মেয়ের নাম', 20], 'tinc': ['একটি তরল ঔষধের নির্যাস (সংক্ষিপ্ত রূপ)', 75], 'tind': ['আগুন ধরানো বা প্রজ্বলিত করা (পুরাতন)', 80], 'tynd': ['আগুন ধরানো বা প্রজ্বলিত করা (পুরাতন/বিরল)', 80], 'tine': ['কাঁটা বা ছুঁচালো অংশ', 40], 'tyne': ['ইংল্যান্ডের একটি নদীর নাম বা কাঁটা (পুরাতন)', 75]}\n",
      "Done\n",
      "Runing for ---------- file_65\n"
     ]
    },
    {
     "name": "stderr",
     "output_type": "stream",
     "text": [
      "E0000 00:00:1760076737.337137   13874 alts_credentials.cc:93] ALTS creds ignored. Not running on GCP and untrusted ALTS is not enabled.\n"
     ]
    },
    {
     "name": "stdout",
     "output_type": "stream",
     "text": [
      "{'ting': ['হালকা ধাতব শব্দ', 15], 'tiny': ['খুব ছোট', 5], 'tink': ['ঠুং ঠুং শব্দ', 18], 'tino': ['একটি নাম বা উপনাম', 70], 'tins': ['ধাতব পাত্র', 20], 'tint': ['রঙের হালকা আভা', 25], 'tiou': ['অজানা শব্দ', 90], 'tipe': ['অজানা শব্দ', 90], 'type': ['প্রকার বা ধরন', 10], 'tipi': ['দেশীয় তাঁবু', 55], 'typy': ['সাধারণ বৈশিষ্ট্যের মতো', 60], 'typo': ['মুদ্রণ ত্রুটি', 30], 'typp': ['অজানা শব্দ', 90], 'tips': ['পরামর্শ বা উপদেশ', 15], 'typw': ['অজানা শব্দ', 90], 'tire': ['ক্লান্ত হওয়া', 10], 'tyre': ['গাড়ির চাকার রাবার', 20], 'tirl': ['ঘুরানো বা পাকানো', 75], 'tiro': ['শিক্ষানবিশ ব্যক্তি', 65], 'tyro': ['শিক্ষানবিশ ব্যক্তি', 65], 'tirr': ['অজানা শব্দ', 90], 'tyrr': ['অজানা শব্দ', 90], 'tite': ['অজানা শব্দ', 90], 'titi': ['ছোট প্রজাতির বানর', 70], 'tyto': ['এক ধরণের পেঁচা', 75], 'tits': ['ছোট পাখি', 40], 'tyum': ['অজানা শব্দ', 90], 'tivy': ['দ্রুত গতিতে', 80], 'tiza': ['অজানা শব্দ', 90], 'tnpk': ['অজানা শব্দ', 90], 'toad': ['ব্যাঙের মতো উভচর প্রাণী', 30], 'toag': ['অজানা শব্দ', 90], 'toat': ['অজানা শব্দ', 90], 'toba': ['একটি হ্রদ বা নাম', 70], 'tobe': ['অজানা শব্দ', 90], 'toby': ['একটি প্রচলিত নাম', 60], 'toch': ['অজানা শব্দ', 90], 'tock': ['ঘড়ির টিক টিক শব্দ', 35], 'toco': ['অজানা শব্দ', 90], 'toda': ['ভারতের একটি উপজাতি', 75], 'todd': ['একটি প্রচলিত নাম', 60], 'tode': ['অজানা শব্দ', 90], 'tody': ['ছোট গ্রীষ্মমণ্ডলীয় পাখি', 70], 'tods': ['শিয়াল বা ঝোপ', 70], 'toea': ['পাপুয়া নিউ গিনির মুদ্রা', 80], 'toed': ['পায়ের আঙুলযুক্ত', 30], 'toey': ['উদ্বিগ্ন বা অস্থির', 70], 'toes': ['পায়ের আঙুল', 10], 'toff': ['ধনী ও অভিজাত ব্যক্তি', 65], 'toft': ['পুরানো বাড়ির ভিটা', 75], 'tofu': ['সয়াবিন থেকে তৈরি খাবার', 45], 'toga': ['প্রাচীন রোমান পোশাক', 50], 'togo': ['পশ্চিম আফ্রিকার একটি দেশ', 65], 'togs': ['পোশাক বা বস্ত্র', 55], 'togt': ['অজানা শব্দ', 90], 'toho': ['জাপানি চলচ্চিত্র স্টুডিও', 75], 'toil': ['কঠোর পরিশ্রম করা', 25], 'toyo': ['এক ধরণের খড় বা নাম', 80], 'toys': ['খেলনা', 5], 'toit': ['অজানা শব্দ', 90], 'toke': ['এক টান ধূমপান', 70], 'toko': ['এক ধরণের মাছ', 70], 'tola': ['ওজন পরিমাপের একক', 75], 'told': ['বলেছিল', 5], 'tole': ['নকশাযুক্ত ধাতব কাজ', 70], 'toll': ['টোল বা মাশুল', 20], 'tolt': ['ঘোড়ার হাঁটার ভঙ্গি', 80], 'tolu': ['এক ধরণের রজন', 80], 'toma': ['অজানা শব্দ', 90], 'tomb': ['কবর বা সমাধি', 30], 'tome': ['বড় ও ভারী বই', 50], 'toms': ['পুরুষ প্রাণী', 35], 'tone': ['শব্দের গুণ', 15], 'tong': ['এক ধরণের চিমটা', 60], 'tony': ['আড়ম্বরপূর্ণ বা ফ্যাশনেবল', 65], 'tonk': ['জোরে আঘাত করা', 70], 'tonn': ['অজানা শব্দ', 90], 'tons': ['টনের বহুবচন', 15], 'took': ['নিয়েছিল', 5], 'tool': ['যন্ত্রপাতি', 10], 'toom': ['খালি বা শূন্য', 75], 'toon': ['ব্যঙ্গচিত্র', 35], 'toop': ['অজানা শব্দ', 90], 'toot': ['শিঙার শব্দ', 30], 'tope': ['পবিত্র বন', 70], 'toph': ['অজানা শব্দ', 90], 'topi': ['গ্রীষ্মমণ্ডলীয় হেলমেট', 70], 'topo': ['ভূসংস্থান', 75], 'tops': ['উপরের অংশ', 10], 'tora': ['ইহুদি ধর্মগ্রন্থ', 75], 'torc': ['প্রাচীন গলার হার', 75], 'tore': ['ছিঁড়েছিল', 15], 'tori': ['জ্যামিতিক আকার', 75], 'tory': ['ব্রিটিশ রাজনৈতিক দল', 65], 'torn': ['ছেঁড়া', 15], 'toro': ['ষাঁড় বা এক ধরণের টুনা মাছ', 70], 'torr': ['চাপ পরিমাপের একক', 80], 'tors': ['পাহাড়ের চূড়া', 60], 'tort': ['বেআইনি কাজ', 55], 'toru': ['অজানা শব্দ', 90]}\n",
      "Done\n",
      "Runing for ---------- file_66\n"
     ]
    },
    {
     "name": "stderr",
     "output_type": "stream",
     "text": [
      "E0000 00:00:1760076785.597743   13874 alts_credentials.cc:93] ALTS creds ignored. Not running on GCP and untrusted ALTS is not enabled.\n"
     ]
    },
    {
     "name": "stdout",
     "output_type": "stream",
     "text": [
      "{'tosh': ['নিরর্থক কথা বা আবর্জনা', 35], 'tosy': ['একটি বিরল বা অপরিচিত শব্দ', 65], 'tosk': ['একটি বিরল বা অপরিচিত শব্দ', 65], 'toss': ['নিক্ষেপ করা বা ছুড়ে ফেলা', 15], 'tost': ['পুরানো ইংরেজি শব্দ, নিক্ষেপ করা হয়েছিল', 50], 'tote': ['বহন করা বা বয়ে নিয়ে যাওয়া', 25], 'toty': ['একটি বিরল বা অপরিচিত শব্দ', 65], 'toto': ['একটি নাম বা নির্দিষ্ট খেলার ধরন', 40], 'tots': ['ছোট শিশু বা অল্প পরিমাণ', 20], 'toug': ['একটি বিরল বা অপরিচিত শব্দ', 65], 'toup': ['চুল বা পরচুলা', 60], 'tour': ['ভ্রমণ বা পরিভ্রমণ', 15], 'tout': ['প্রচার করা বা প্রশংসা করা', 40], 'towd': ['একটি বিরল বা অপরিচিত শব্দ', 65], 'towy': ['শণ বা তন্তুর মতো', 55], 'town': ['শহর বা নগর', 5], 'tows': ['টেনে নিয়ে যাওয়া বা টানার কাজ', 25], 'toxa': ['বিষ বা বিষাক্ততা সম্পর্কিত উপসর্গ', 75], 'toze': ['আঁশ বা তন্তু আলাদা করা', 60], 'tpke': ['রাস্তার একটি প্রকারের সংক্ষিপ্ত রূপ', 60], 'trac': ['পথ বা চিহ্ন বোঝাতে ব্যবহৃত', 45], 'trad': ['ঐতিহ্যবাহী শব্দের সংক্ষিপ্ত রূপ', 40], 'trag': ['দুঃখজনক বা ছাগল সম্পর্কিত উপসর্গ', 70], 'trah': ['একটি বিরল বা অপরিচিত শব্দ', 65], 'tray': ['থালা বা ট্রে', 10], 'tram': ['রেলপথে চালিত যাত্রীবাহী যান', 30], 'tran': ['একটি বিরল বা অপরিচিত শব্দ', 65], 'trap': ['ফাঁদ বা জাল', 15], 'trav': ['একটি বিরল বা অপরিচিত শব্দ', 65], 'tree': ['গাছ বা বৃক্ষ', 3], 'tref': ['খাদ্য যা ধর্মীয় বিধি অনুযায়ী নিষিদ্ধ', 70], 'trey': ['তাসের তিন সংখ্যা বা তিনের সেট', 50], 'trek': ['কষ্টকর বা দীর্ঘ যাত্রা', 30], 'tres': ['তিন সংখ্যা (অন্য ভাষায়)', 45], 'tret': ['পণ্যের ওজনের ক্ষেত্রে ছাড়', 60], 'trib': ['উপজাতি বা শ্রদ্ধা সম্পর্কিত উপসর্গ', 65], 'trid': ['একটি বিরল বা অপরিচিত শব্দ', 65], 'trig': ['গণিতের একটি শাখা বা সুসজ্জিত', 55], 'trim': ['পরিষ্কার করা বা ছাঁটা', 20], 'trin': ['একটি বিরল বা অপরিচিত শব্দ', 65], 'trio': ['তিনজনের দল বা ত্রয়ী', 25], 'trip': ['যাত্রা বা হোঁচট খাওয়া', 10], 'tryp': ['এনজাইম বা পাচক সম্পর্কিত উপসর্গ', 78], 'trit': ['তিন পরমাণু বা তিন অংশ সম্পর্কিত উপসর্গ', 75], 'tryt': ['একটি বিরল বা অপরিচিত শব্দ', 65], 'trix': ['একটি নাম বা খেলা', 40], 'trod': ['পদদলিত করা হয়েছিল বা হেঁটে যাওয়া হয়েছিল', 40], 'trog': ['গুহাবাসী বা অসভ্য ব্যক্তি', 60], 'troy': ['মূল্যবান ধাতু পরিমাপের একটি একক', 65], 'tron': ['ইলেকট্রনিক যন্ত্র সম্পর্কিত উপসর্গ', 70], 'trop': ['ঘোরা বা পরিবর্তন সম্পর্কিত উপসর্গ', 70], 'trot': ['দ্রুত হাঁটা বা ছোট দৌড়', 20], 'trow': ['বিশ্বাস করা বা মনে করা (পুরানো শব্দ)', 55], 'trub': ['একটি বিরল বা অপরিচিত শব্দ', 65], 'true': ['সত্য বা সঠিক', 5], 'trug': ['কাঠের তৈরি অগভীর ঝুড়ি', 60], 'trun': ['একটি বিরল বা অপরিচিত শব্দ', 65], 'tsar': ['রাশিয়ার সম্রাট', 45], 'tshi': ['পশ্চিম আফ্রিকার একটি ভাষা', 60], 'tsia': ['একটি বিরল বা অপরিচিত শব্দ', 65], 'tsks': ['অসন্তোষ বা বিরক্তি প্রকাশকারী শব্দ', 40], 'tsun': ['বড় সামুদ্রিক ঢেউ বা ঝড় সম্পর্কিত', 60], 'tuan': ['সম্মানসূচক উপাধি (মালয়েশিয়ায় ব্যবহৃত)', 65], 'tuba': ['একটি বড় বাদ্যযন্ত্র', 40], 'tube': ['নল বা টিউব', 10], 'tubs': ['টব বা স্নানের পাত্র', 15], 'tuck': ['ভাঁজ করা বা গুঁজে রাখা', 20], 'tufa': ['ছিদ্রযুক্ত শিলা বা পাথর', 65], 'tuff': ['আগ্নেয় শিলা বা পাথর', 60], 'tuft': ['একগুচ্ছ চুল বা তন্তু', 30], 'tugs': ['টানা বা ছোট শক্তিশালী নৌকা', 25], 'tuik': ['একটি বিরল বা অপরিচিত শব্দ', 65], 'tuis': ['এক প্রকার পাখি বা ফুল', 60], 'tuke': ['একটি বিরল বা অপরিচিত শব্দ', 65], 'tula': ['একটি শহর বা উদ্ভিদ', 50], 'tule': ['এক প্রকার জলজ উদ্ভিদ', 60], 'tulu': ['ভারতের একটি ভাষা বা অঞ্চল', 60], 'tume': ['ফোলা বা স্ফীতি সম্পর্কিত উপসর্গ', 75], 'tump': ['ছোট টিলা বা ঢিবি', 60], 'tuna': ['এক প্রকার বড় সামুদ্রিক মাছ', 30], 'tund': ['একটি বিরল বা অপরিচিত শব্দ', 65], 'tune': ['সুর বা তাল', 15], 'tung': ['একটি গাছ বা তার তেল', 50], 'tuny': ['টুনা মাছের মতো বা ছোট', 55], 'tunk': ['ঠোকার শব্দ বা হালকা আঘাত', 60], 'tuno': ['একটি বিরল বা অপরিচিত শব্দ', 65], 'tuns': ['বড় পিপা বা ব্যারেল', 50], 'tunu': ['একটি বিরল বা অপরিচিত শব্দ', 65], 'tupi': ['দক্ষিণ আমেরিকার একটি আদিবাসী জাতি', 65], 'tups': ['পুরুষ ভেড়া', 55], 'turb': ['ঘোরা বা গোলমাল সম্পর্কিত উপসর্গ', 70], 'turf': ['ঘাসযুক্ত মাটির উপরিভাগ', 30], 'turi': ['একটি বিরল বা অপরিচিত শব্দ', 65], 'turk': ['তুরস্কের অধিবাসী', 40], 'turm': ['একটি বিরল বা অপরিচিত শব্দ', 65], 'turn': ['ঘোরা বা মোড় নেওয়া', 10], 'turp': ['এক প্রকার রাসায়নিক পদার্থ (সংক্ষিপ্ত রূপ)', 70], 'turr': ['এক প্রকার সামুদ্রিক পাখি', 60], 'tush': ['শরীরের পেছনের অংশ', 35]}\n",
      "Done\n",
      "Runing for ---------- file_67\n"
     ]
    },
    {
     "name": "stderr",
     "output_type": "stream",
     "text": [
      "E0000 00:00:1760076822.267577   13874 alts_credentials.cc:93] ALTS creds ignored. Not running on GCP and untrusted ALTS is not enabled.\n"
     ]
    },
    {
     "name": "stdout",
     "output_type": "stream",
     "text": [
      "2\n",
      "Re-Run\n"
     ]
    },
    {
     "name": "stderr",
     "output_type": "stream",
     "text": [
      "E0000 00:00:1760076887.869623   13874 alts_credentials.cc:93] ALTS creds ignored. Not running on GCP and untrusted ALTS is not enabled.\n"
     ]
    },
    {
     "name": "stdout",
     "output_type": "stream",
     "text": [
      "{'tusk': ['হাতির লম্বা দাঁত', 15], 'tute': ['শিক্ষামূলক ক্লাস বা নির্দেশনা', 30], 'tuth': ['দাঁত বা দন্ত', 25], 'tuts': ['বিরক্তি বা অসম্মতি বোঝাতে ব্যবহৃত শব্দ', 40], 'tutu': ['ব্যালে নাচের পোশাক', 35], 'tuum': ['তোমার (ল্যাটিন শব্দ)', 70], 'tuwi': ['এক প্রকার পাখি', 80], 'tuza': ['একটি বিরল শব্দ', 85], 'twae': ['দুটি (স্কটিশ উপভাষা)', 55], 'tway': ['দুটি (প্রাচীন বা আঞ্চলিক শব্দ)', 55], 'twal': ['বারো (স্কটিশ উপভাষা)', 55], 'twas': ['এটা ছিল (সংক্ষিপ্ত রূপ)', 40], 'twee': ['অতিমাত্রায় সূক্ষ্ম বা মিষ্টি', 50], 'twie': ['দুবার (প্রাচীন বা আঞ্চলিক শব্দ)', 55], 'twig': ['ছোট ডালপালা', 18], 'twin': ['যমজ', 15], 'twit': ['বোকা বা নির্বোধ ব্যক্তি', 30], 'twos': ['দুই সংখ্যা', 12], 'tzar': ['রাশিয়ার প্রাক্তন সম্রাট', 45], 'uang': ['ইন্দোনেশিয়ার মুদ্রা', 50], 'ubii': ['প্রাচীন জার্মানিক উপজাতি', 70], 'ucal': ['একটি বিশেষ পরিমাপ একক', 85], 'udal': ['সামন্ততান্ত্রিক ভূমি ব্যবস্থা', 60], 'udic': ['আর্দ্র বা ভেজা আবহাওয়া সম্পর্কিত', 75], 'udom': ['উৎকৃষ্ট বা চমৎকার (থাই শব্দ)', 70], 'udos': ['এক প্রকার সবজি গাছ', 65], 'ufer': ['একটি বিশেষ ধরনের জলাশয়', 85], 'ufos': ['অজানা উড়ন্ত বস্তু', 35], 'ughs': ['বিরক্তি বা ঘৃণার শব্দ', 38], 'ugli': ['এক প্রকার টক ফল', 40], 'ugly': ['কুৎসিত', 10], 'uily': ['তৈলাক্ত', 50], 'ukes': ['এক প্রকার ছোট বাদ্যযন্ত্র', 45], 'ulan': ['মঙ্গোলীয় ঘোড়সওয়ার সেনা', 60], 'ulex': ['কাঁটাযুক্ত ঝোপ', 65], 'ulla': ['একটি প্রাচীন নাম', 85], 'ulmo': ['এক প্রকার গাছের নাম', 70], 'ulna': ['হাতের একটি হাড়', 60], 'ulta': ['চরম বা চূড়ান্ত', 50], 'ulto': ['গত মাসের (প্রাচীন বা আইনি শব্দ)', 70], 'ulua': ['এক প্রকার সামুদ্রিক মাছ', 70], 'ulus': ['একটি জাতি বা সম্প্রদায় (তুর্কি শব্দ)', 70], 'ulva': ['এক প্রকার সামুদ্রিক শৈবাল', 65], 'umbo': ['ঢালের মধ্যভাগের উঁচু অংশ', 70], 'umph': ['শক্তি বা উদ্দীপনা', 45], 'umpy': ['অসমতল বা অমসৃণ', 85], 'umps': ['খেলার রেফারি (সংক্ষিপ্ত রূপ)', 35], 'unai': ['এক প্রকার স্লথ প্রাণী', 70], 'unal': ['একটি বিরল বা প্রাচীন নাম', 85], 'unau': ['এক প্রকার দুই আঙুলযুক্ত স্লথ', 70], 'unbe': ['একটি অসম্পূর্ণ শব্দাংশ', 90], 'unca': ['একটি বাঁকানো অংশ', 85], 'unci': ['বাঁকানো অংশ বা হুক (শারীরস্থান)', 75], 'unco': ['অস্বাভাবিক বা অদ্ভুত (স্কটিশ উপভাষা)', 60], 'uncs': ['একটি সংক্ষিপ্ত শব্দ', 90], 'unct': ['অভিষেক বা প্রলেপ সংক্রান্ত শব্দাংশ', 90], 'unde': ['নিচের দিকে নির্দেশক শব্দাংশ', 90], 'undy': ['ঢেউ খেলানো বা তরঙ্গায়িত', 55], 'undo': ['পূর্বাবস্থায় ফিরিয়ে আনা', 18], 'ungt': ['মলম বা প্রলেপ সম্পর্কিত শব্দাংশ', 90], 'unie': ['একটি একক বস্তু', 85], 'unio': ['এক প্রকার ঝিনুক', 70], 'unit': ['একক', 10], 'univ': ['বিশ্ববিদ্যালয় (সংক্ষিপ্ত রূপ)', 25], 'unix': ['একটি কম্পিউটার অপারেটিং সিস্টেম', 50], 'unta': ['একটি বিরল বা প্রাচীন শব্দ', 85], 'unto': ['প্রতি বা দিকে (প্রাচীন শব্দ)', 40], 'untz': ['একটি ছন্দময় শব্দ', 45], 'unum': ['এক (ল্যাটিন শব্দ)', 70], 'unze': ['এক আউন্স পরিমাপ (জার্মান শব্দ)', 70], 'upas': ['এক প্রকার বিষাক্ত গাছ', 65], 'upby': ['কাছে বা উপরে (স্কটিশ উপভাষা)', 60], 'updo': ['চুলের একটি বিশেষ স্টাইল', 40], 'upgo': ['উপরে যাওয়া', 30], 'upla': ['একটি উচ্চ স্থান', 85], 'upon': ['উপরে', 12], 'upsy': ['উপরে বা উচ্চ স্থানে (প্রাচীন শব্দ)', 60], 'ural': ['ইউরোপ ও এশিয়ার মধ্যবর্তী একটি পর্বতমালা', 50], 'uran': ['একটি রাসায়নিক উপাদান', 75], 'urao': ['এক প্রকার লবণাক্ত হ্রদ', 70], 'urbs': ['একটি শহর (ল্যাটিন শব্দ)', 70], 'urde': ['একটি বিরল উদ্ভিদ', 85], 'urdy': ['মাটি বা পৃথিবী সম্পর্কিত', 85], 'urds': ['এক প্রকার ডালশস্য', 65], 'urdu': ['একটি ভাষা', 20], 'urea': ['একটি জৈব যৌগ', 60], 'urge': ['জোরালো ইচ্ছা বা তাগিদ', 20], 'uria': ['প্রস্রাব সংক্রান্ত (চিকিৎসা)', 70], 'uric': ['প্রস্রাব বা ইউরিক অ্যাসিড সম্পর্কিত (চিকিৎসা)', 70], 'urim': ['প্রাচীন ইসরায়েলে ব্যবহৃত একটি পবিত্র বস্তু', 75], 'urna': ['একটি প্রাচীন কলস বা পাত্র', 85], 'urns': ['ছাই রাখার পাত্র', 35], 'urol': ['প্রস্রাব বা মূত্রতন্ত্র সম্পর্কিত (চিকিৎসা)', 75], 'uroo': ['একটি বিরল প্রাণী', 85], 'ursa': ['ভালুকের একটি প্রজাতি', 60], 'urus': ['এক প্রকার বুনো ষাঁড়', 65], 'urva': ['এক প্রকার বেজি', 70], 'usar': ['লবণাক্ত বা অনুর্বর মাটি', 65], 'used': ['ব্যবহৃত', 8]}\n",
      "Done\n",
      "Runing for ---------- file_68\n"
     ]
    },
    {
     "name": "stderr",
     "output_type": "stream",
     "text": [
      "E0000 00:00:1760076933.663839   13874 alts_credentials.cc:93] ALTS creds ignored. Not running on GCP and untrusted ALTS is not enabled.\n"
     ]
    },
    {
     "name": "stdout",
     "output_type": "stream",
     "text": [
      "{'usee': ['ব্যবহারের একটি ধরন', 40], 'user': ['ব্যবহারকারী', 10], 'uses': ['ব্যবহার করে', 8], 'ussr': ['সোভিয়েত সমাজতান্ত্রিক প্রজাতন্ত্রের একটি প্রাক্তন জোট (ইউ.এস.এস.আর.)', 60], 'usun': ['জাতিসংঘে মার্কিন যুক্তরাষ্ট্রের মিশন', 75], 'utah': ['মার্কিন যুক্তরাষ্ট্রের একটি রাজ্য (উটাহ)', 50], 'utai': ['একটি নির্দিষ্ট নাম বা শব্দ', 65], 'utas': ['তাসমানিয়া বিশ্ববিদ্যালয়', 70], 'utch': ['একটি সংক্ষিপ্ত বা নির্দিষ্ট শব্দ', 60], 'util': ['উপযোগিতা', 40], 'utum': ['একটি বিশেষ শব্দ বা নাম', 65], 'uval': ['একটি নির্দিষ্ট নাম', 65], 'uvea': ['চোখের মধ্যবর্তী স্তর', 70], 'uvic': ['ভিক্টোরিয়া বিশ্ববিদ্যালয়', 70], 'uvid': ['একটি বিশেষ নাম', 65], 'uvre': ['একটি অজানা শব্দ', 65], 'uzan': ['একটি ব্যক্তিগত নাম', 60], 'vaad': ['একটি পরিষদ বা কমিটি', 70], 'vade': ['ধীরে ধীরে চলা', 60], 'vady': ['একটি নির্দিষ্ট শব্দ', 65], 'vage': ['একটি বিশেষ বা বিরল শব্দ', 65], 'vagi': ['একটি নির্দিষ্ট শব্দ', 65], 'vail': ['পর্দা', 45], 'vain': ['অহংকারপূর্ণ বা নিষ্ফল', 40], 'vair': ['এক ধরণের পশম', 80], 'vayu': ['বাতাস বা বায়ুর দেবতা', 70], 'vale': ['উপত্যকা', 35], 'vali': ['একটি পৌরাণিক নাম', 60], 'vall': ['একটি বিশেষ নাম', 65], 'vamp': ['আকর্ষণীয় নারী বা জুতার উপরের অংশ', 55], 'vane': ['বাতাসের দিক নির্দেশক', 50], 'vang': ['জাহাজের একটি দড়ি', 70], 'vans': ['গাড়ির একটি প্রকার', 40], 'vara': ['একটি পরিমাপের একক বা বিশেষ নাম', 65], 'vare': ['একটি নির্দিষ্ট শব্দ', 65], 'vari': ['বিভিন্ন বা বিভিন্নতা', 40], 'vary': ['পরিবর্তন করা', 30], 'vasa': ['রক্তনালী বা পাত্র', 65], 'vase': ['ফুলদানি', 20], 'vast': ['বিশাল বা বিস্তৃত', 25], 'vasu': ['হিন্দু পুরাণের একটি নাম', 60], 'vats': ['বড় পাত্র বা বাছুর', 50], 'vaus': ['একটি প্রাচীন অক্ষরের বহুবচন', 80], 'vavs': ['হিব্রু ভাষার একটি অক্ষরের বহুবচন', 75], 'veal': ['বাছুরের মাংস', 40], 'veau': ['বাছুরের মাংস (ফরাসি শব্দ)', 70], 'veda': ['প্রাচীন হিন্দু ধর্মগ্রন্থ', 50], 'veen': ['একটি বিশেষ নাম', 65], 'veep': ['উপ-রাষ্ট্রপতি (অনানুষ্ঠানিক শব্দ)', 60], 'veer': ['দিক পরিবর্তন করা', 40], 'vees': ['V অক্ষরের বহুবচন বা V-আকৃতি', 30], 'vega': ['একটি নক্ষত্রের নাম বা গাড়ির মডেল', 55], 'veil': ['পর্দা বা ঢাকা', 35], 'vein': ['রক্তনালী বা খনিজ স্তর', 40], 'vela': ['একটি তারামণ্ডলের নাম', 65], 'veld': ['দক্ষিণ আফ্রিকার তৃণভূমি', 70], 'vell': ['একটি বিশেষ শব্দ', 65], 'velo': ['সাইকেল বা সাইক্লিং সম্পর্কিত', 60], 'vena': ['রক্তনালী (ল্যাটিন শব্দ)', 70], 'vend': ['বিক্রি করা', 40], 'veny': ['একটি নির্দিষ্ট শব্দ', 65], 'vent': ['ছিদ্র বা প্রকাশ করা', 40], 'veps': ['একটি জাতিগোষ্ঠীর নাম', 75], 'vera': ['একটি মেয়ের নাম', 30], 'verb': ['ক্রিয়া পদ', 20], 'verd': ['সবুজ (একটি প্রাচীন বা কাব্যিক শব্দ)', 70], 'veri': ['একটি নির্দিষ্ট নাম', 65], 'very': ['খুব', 5], 'vern': ['একটি সংক্ষিপ্ত নাম', 60], 'vers': ['শ্লোক বা ছন্দ', 45], 'vert': ['উল্লম্ব বা শীর্ষবিন্দু', 55], 'vese': ['একটি বিশেষ শব্দ', 65], 'vesp': ['একটি স্কুটারের নাম বা বল্লভী জাতীয় পোকা', 60], 'vest': ['বুকশার্ট বা ক্ষমতা অর্পণ করা', 35], 'veta': ['একটি নির্দিষ্ট নাম', 65], 'veto': ['নিষেধাজ্ঞা বা বাতিল করা', 45], 'vets': ['পশু চিকিৎসকগণ বা যাচাই করা', 35], 'vext': ['বিরক্ত করা হয়েছিল (প্রাচীন রূপ)', 75], 'vial': ['ছোট কাঁচের শিশি', 45], 'vias': ['মাধ্যমে বা বৈদ্যুতিক সংযোগ পথ', 50], 'vibe': ['অনুভূতি বা মেজাজ', 40], 'vica': ['বদলে বা প্রতিনিধি', 60], 'vice': ['দুর্গুণ বা উপ-পদবী', 40], 'vick': ['একটি নাম', 30], 'vide': ['দেখুন (একটি ল্যাটিন শব্দ)', 65], 'vied': ['প্রতিযোগিতা করেছিল', 45], 'vier': ['প্রতিযোগী', 60], 'vies': ['প্রতিযোগিতা করে', 45], 'view': ['দৃশ্য বা দেখা', 15], 'viga': ['একটি বিম বা কাঠামোগত উপাদান', 65], 'viii': ['রোমান সংখ্যা আট', 35], 'vila': ['শ্লাভিক পুরাণের পরী বা একটি নাম', 70], 'vild': ['একটি বিশেষ শব্দ বা নাম', 65], 'vile': ['ঘৃণ্য বা নিকৃষ্ট', 40], 'vili': ['একটি নির্দিষ্ট নাম', 65], 'vill': ['গ্রাম বা একটি সংক্ষিপ্ত নাম', 50], 'vims': ['শক্তি ও উদ্যম', 55], 'vina': ['একটি ভারতীয় বাদ্যযন্ত্র', 60], 'vine': ['লতা', 30]}\n",
      "Done\n",
      "Runing for ---------- file_69\n"
     ]
    },
    {
     "name": "stderr",
     "output_type": "stream",
     "text": [
      "E0000 00:00:1760076989.008095   13874 alts_credentials.cc:93] ALTS creds ignored. Not running on GCP and untrusted ALTS is not enabled.\n"
     ]
    },
    {
     "name": "stdout",
     "output_type": "stream",
     "text": [
      "{'viny': ['আঙ্গুরলতার মতো বা সম্পর্কিত', 40], 'vino': ['মদ (কথ্য শব্দ)', 30], 'vins': ['বিভিন্ন ধরনের মদ', 35], 'vint': ['মদ তৈরির বছর', 45], 'viol': ['একটি প্রাচীন তারযুক্ত বাদ্যযন্ত্র', 55], 'vips': ['খুব গুরুত্বপূর্ণ ব্যক্তি', 25], 'vira': ['একজন বীর বা সাহসী ব্যক্তি', 60], 'vire': ['ঘোরা বা মোড় নেওয়া (পুরনো শব্দ)', 65], 'virl': ['ছোট ধাতব বলয় বা কভার', 70], 'visa': ['ভ্রমণের জন্য সরকারি অনুমতি', 15], 'vise': ['বস্তু ধরে রাখার যন্ত্র', 40], 'viss': ['দক্ষিণ এশিয়ার একটি ওজন পরিমাপের একক', 60], 'vita': ['জীবন (ল্যাটিন শব্দ)', 50], 'vite': ['তাড়াতাড়ি (ফরাসি শব্দ)', 55], 'viti': ['দোষ বা ত্রুটি (ল্যাটিন মূল)', 75], 'viva': ['দীর্ঘজীবী হোক (উৎসাহব্যঞ্জক শব্দ)', 35], 'vive': ['দীর্ঘজীবী হোক (ফরাসি)', 40], 'vivo': ['জীবিত বা সজীব (ল্যাটিন)', 50], 'vlei': ['দক্ষিণ আফ্রিকার অগভীর জলাশয় বা নিম্নভূমি', 75], 'vlsi': ['অনেক ইলেকট্রনিক উপাদানকে একটি চিপে একত্রিত করার প্রযুক্তি', 85], 'voar': ['হঠাৎ উপরে ওঠা বা লাফিয়ে ওঠা (স্কটল্যান্ডীয় শব্দ)', 70], 'voce': ['কণ্ঠস্বর (ইতালীয় শব্দ)', 60], 'voes': ['ছোট উপসাগর বা খাঁড়ি', 65], 'voet': ['পা (ডাচ শব্দ)', 60], 'vogt': ['একজন সরকারি কর্মকর্তা বা প্রতিনিধি (জার্মান শব্দ)', 75], 'void': ['শূন্যতা; বাতিল করা', 20], 'vole': ['ছোট ইঁদুর সদৃশ প্রাণী', 50], 'vols': ['খণ্ড বা স্বেচ্ছাসেবক (সংক্ষিপ্ত রূপ)', 35], 'volt': ['বৈদ্যুতিক বিভব পরিমাপের একক', 30], 'vota': ['প্রতিজ্ঞা বা সংকল্প (ল্যাটিন)', 65], 'vote': ['ভোট দেওয়া বা মতামত প্রকাশ করা', 10], 'vows': ['গুরুত্বপূর্ণ প্রতিজ্ঞা বা শপথ', 20], 'vril': ['এক রহস্যময় জীবনশক্তি বা শক্তি', 70], 'vrow': ['নারী বা স্ত্রী (ডাচ শব্দ)', 60], 'vugg': ['পাথরের ছোট গহ্বর', 70], 'vugh': ['পাথরের ছোট গহ্বর', 70], 'vugs': ['পাথরের ছোট গহ্বরসমূহ', 70], 'vulg': ['অশ্লীল বা অমার্জিত (সংক্ষিপ্ত রূপ)', 45], 'vuln': ['দুর্বল বা অরক্ষিত (সংক্ষিপ্ত রূপ)', 40], 'waac': ['মহিলা সামরিক সহায়ক বাহিনী (একটি ঐতিহাসিক সামরিক সংস্থা)', 80], 'waag': ['ওজন মাপার ঘর বা কেন্দ্র', 70], 'waar': ['পণ্য বা সামগ্রী (ডাচ শব্দ)', 65], 'wabe': ['জাল বা বোনা কাপড় (পুরাতন শব্দ)', 70], 'wabi': ['জাপানি সৌন্দর্যবোধের একটি ধারণা (সরলতা ও প্রাকৃতিকতা)', 75], 'wabs': ['কাপড়ের টুকরা (পুরাতন শব্দ)', 70], 'wace': ['একটি ঐতিহাসিক নাম (যেমন একজন কবি)', 70], 'wack': ['অদ্ভুত বা পাগল (কথ্য)', 35], 'waco': ['যুক্তরাষ্ট্রের একটি শহরের নাম', 50], 'wacs': ['মহিলা সামরিক বাহিনী (একটি ঐতিহাসিক সামরিক সংস্থা)', 80], 'wade': ['জল বা কাদার মধ্য দিয়ে হাঁটা', 25], 'wadi': ['মরুভূমির শুকনো নদীপথ', 55], 'wady': ['মরুভূমির শুকনো নদীপথ', 55], 'wads': ['নরম পদার্থের গোছা বা স্তূপ', 30], 'waeg': ['পথ বা রাস্তা (প্রাচীন ইংরেজি)', 75], 'waer': ['সচেতন বা সতর্ক (প্রাচীন ইংরেজি)', 75], 'waes': ['দুঃখ বা শোক (প্রাচীন ইংরেজি)', 75], 'wafd': ['মিশরের একটি ঐতিহাসিক রাজনৈতিক দল', 80], 'waff': ['হালকাভাবে নাড়া বা উড়ানো', 60], 'waft': ['হালকাভাবে ভেসে যাওয়া বা বয়ে যাওয়া', 40], 'wage': ['মজুরি বা বেতন; কিছু শুরু করা', 15], 'wagh': ['একটি ভারতীয় পদবি বা উপাধি', 55], 'wags': ['ঠাট্টা করা ব্যক্তি; লেজ নাড়ানো', 25], 'waif': ['গৃহহীন বা পরিত্যক্ত শিশু/প্রাণী', 50], 'waik': ['দুর্বল (স্কটল্যান্ডীয় শব্দ)', 65], 'wail': ['দীর্ঘ কান্নার শব্দ করা', 30], 'wain': ['কৃষিকাজের গাড়ি বা শকট', 60], 'wair': ['বসন্ত বা বন্যা (স্কটল্যান্ডীয় শব্দ)', 65], 'ways': ['পদ্ধতি বা পথসমূহ', 10], 'wait': ['অপেক্ষা করা', 5], 'waka': ['মাওরিদের ঐতিহ্যবাহী নৌকা', 70], 'wake': ['ঘুম থেকে জাগা; নৌকার পেছনে জলের রেখা', 15], 'wakf': ['ইসলামিক দাতব্য সম্পত্তি বা দান', 75], 'waky': ['জাগ্রত বা সতর্ক (কথ্য)', 30], 'wale': ['কাপড়ের রেখা; আঘাতের দাগ', 45], 'wali': ['মুসলিম সাধু বা অভিভাবক', 65], 'waly': ['নির্বাচিত বা চমৎকার (স্কটল্যান্ডীয় শব্দ)', 70], 'walk': ['হাঁটা', 5], 'wall': ['দেওয়াল', 5], 'walt': ['একটি পুরুষ নাম (যেমন ওয়াল্টার)', 40], 'wame': ['পেট বা গর্ভ (স্কটল্যান্ডীয় শব্দ)', 70], 'wamp': ['আঘাত করা (কথ্য)', 50], 'wand': ['জাদুর কাঠি', 20], 'wane': ['কমে যাওয়া বা ক্ষীণ হওয়া', 35], 'wang': ['একটি চীনা পদবি বা উপাধি', 55], 'wany': ['কাঠের প্রাকৃতিক ধার বা প্রান্ত', 60], 'wans': ['ফ্যাকাশে বা ম্লান', 40], 'want': ['চাওয়া বা অভাব অনুভব করা', 5], 'wapp': ['মোড়ানো বা বাঁধা (পুরাতন শব্দ)', 65], 'waps': ['আঘাত বা বান্ডিল (পুরাতন শব্দ)', 65], 'warb': ['পাখির গান (সংক্ষিপ্ত রূপ)', 45], 'ward': ['হাসপাতালের বিভাগ; পাহারা দেওয়া', 20], 'ware': ['বিক্রয়ের জন্য পণ্য', 15], 'warf': ['নৌকা বা জাহাজ বাঁধার স্থান (স্কটল্যান্ডীয় শব্দ)', 60], 'wary': ['সতর্ক বা সাবধান', 25], 'wark': ['কাজ (স্কটল্যান্ডীয় শব্দ)', 60], 'warl': ['বাঁকা বা মোচড়ানো (স্কটল্যান্ডীয় শব্দ)', 65], 'warm': ['উষ্ণ বা গরম', 5], 'warn': ['সতর্ক করা', 10]}\n",
      "Done\n",
      "Runing for ---------- file_70\n"
     ]
    },
    {
     "name": "stderr",
     "output_type": "stream",
     "text": [
      "E0000 00:00:1760077030.171985   13874 alts_credentials.cc:93] ALTS creds ignored. Not running on GCP and untrusted ALTS is not enabled.\n"
     ]
    },
    {
     "name": "stdout",
     "output_type": "stream",
     "text": [
      "{'warp': ['কিছুকে বাঁকানো বা বিকৃত করা', 35], 'wars': ['যুদ্ধসমূহ', 15], 'wart': ['আঁচিল', 25], 'wase': ['খড় বা ঘাসের আঁটি', 65], 'wash': ['পরিষ্কার করা বা ধোয়া', 5], 'wasn': ['ছিল না', 10], 'wasp': ['এক ধরণের পোকা যা কামড়ায়', 30], 'wast': ['তুমি ছিলে (পুরাতন ব্যবহার)', 70], 'wath': ['নদীর অগভীর অংশ', 75], 'wats': ['বৌদ্ধদের উপাসনালয়', 50], 'watt': ['বৈদ্যুতিক শক্তির পরিমাপের একক', 40], 'wauf': ['পথভ্রষ্ট বা পরিত্যক্ত প্রাণী/ব্যক্তি', 70], 'wauk': ['কাপড় প্রক্রিয়াজাত করা বা হাঁটা', 75], 'waul': ['বিড়ালের মতো কান্না করা', 60], 'waup': ['কিছু মোড়ানো বা বাঁধা', 75], 'waur': ['আরো খারাপ (আঞ্চলিক)', 70], 'wave': ['ঢেউ বা হাত নাড়ানো', 10], 'wavy': ['ঢেউয়ের মতো দেখতে', 20], 'wawa': ['এক ধরণের আফ্রিকান কাঠ গাছ', 70], 'wawl': ['উচ্চস্বরে কান্নাকাটি করা', 60], 'waws': ['সেমিটিক বর্ণমালার একটি অক্ষর', 80], 'waxy': ['মোমের মতো মসৃণ বা নরম', 30], 'weak': ['শক্তিহীন বা দুর্বল', 5], 'weal': ['সুস্বাস্থ্য বা সমৃদ্ধি', 40], 'weam': ['পেট বা উদর (আঞ্চলিক)', 70], 'wean': ['কোনো অভ্যাস থেকে বিরত করা', 45], 'wear': ['কাপড় পরা বা ব্যবহার করা', 5], 'webs': ['জালের মতো কাঠামো', 15], 'wede': ['পোশাক বা পরিধেয় বস্ত্র (পুরাতন)', 70], 'weds': ['বিবাহ করা', 20], 'weed': ['অবাঞ্ছিত গাছ বা আগাছা পরিষ্কার করা', 20], 'week': ['সাত দিনের সময়কাল', 3], 'weel': ['ভালোভাবে (আঞ্চলিক)', 65], 'weem': ['গুহা বা গর্ত (আঞ্চলিক)', 70], 'ween': ['মনে করা বা অনুমান করা (পুরাতন ব্যবহার)', 70], 'weep': ['চোখ দিয়ে জল ফেলা', 15], 'weer': ['তার বা ধাতব রজ্জু (আঞ্চলিক)', 65], 'wees': ['ছোট বা ক্ষুদ্র', 35], 'weet': ['ভিজিয়ে দেওয়া বা জানা (আঞ্চলিক)', 65], 'weft': ['কাপড় বুননের আড়াআড়ি সুতা', 55], 'wega': ['আকাশের একটি উজ্জ্বল তারা', 40], 'weir': ['নদীর জল প্রবাহ নিয়ন্ত্রণের জন্য নির্মিত কাঠামো', 50], 'weys': ['ওজনের একটি পরিমাপ একক', 60], 'weka': ['নিউজিল্যান্ডের একটি উড়তে না পারা পাখি', 70], 'weki': ['মাওরিদের ঐতিহ্যবাহী এক ধরণের মাদুর', 80], 'weld': ['ধাতু জোড়া লাগানো', 40], 'welf': ['কল্যাণ বা মঙ্গল (পুরাতন)', 65], 'weli': ['ইন্দোনেশিয়ার এক ধরণের ঐতিহ্যবাহী ছুরি', 80], 'welk': ['এক ধরণের সামুদ্রিক শামুক', 60], 'well': ['ভালোভাবে বা কুয়া', 5], 'wels': ['ইউরোপের এক ধরণের বড় ক্যাটফিশ মাছ', 65], 'welt': ['জুতার প্রান্ত বা চামড়ার দাগ', 50], 'wend': ['ধীরে ধীরে এগিয়ে যাওয়া', 55], 'wene': ['আশা করা বা প্রত্যাশা করা (পুরাতন ব্যবহার)', 70], 'wens': ['ত্বকের উপরে এক ধরণের সিস্ট', 60], 'went': ['গমন করেছিল', 5], 'wept': ['কান্না করেছিল', 15], 'were': ['ছিল বা হয়েছিল', 5], 'werf': ['নেদারল্যান্ডসের একটি সুরক্ষিত খামারবাড়ি', 75], 'weri': ['সন্দেহ বা দ্বিধা (পুরাতন)', 70], 'wert': ['তুমি ছিলে (পুরাতন ব্যবহার)', 70], 'wese': ['আর্দ্র বা ভেজা হওয়া (আঞ্চলিক)', 70], 'west': ['সূর্য ডোবার দিক', 10], 'weta': ['নিউজিল্যান্ডের এক ধরণের বড় পোকা', 70], 'wets': ['কিছু ভিজিয়ে দেওয়া', 20], 'weve': ['বুনন করা (পুরাতন)', 65], 'wezn': ['পোল্যান্ডের ঐতিহ্যবাহী ক্রিসমাস ওয়েফার', 80], 'wham': ['আকস্মিক বা জোরে আঘাতের শব্দ', 50], 'whan': ['কখন (পুরাতন বা আঞ্চলিক ব্যবহার)', 70], 'whap': ['জোরে আঘাত করা', 55], 'whar': ['কোথায় (আঞ্চলিক ব্যবহার)', 70], 'what': ['কোনো কিছু সম্পর্কে প্রশ্ন করা', 3], 'whau': ['এক ধরণের গাছ বা উইলো (আঞ্চলিক)', 75], 'whee': ['আনন্দ বা উচ্ছ্বাসের প্রকাশ', 45], 'whey': ['দুধ ফেটে গেলে যে জলীয় অংশ থাকে', 50], 'when': ['সময় নির্দেশক শব্দ', 3], 'whet': ['ধারালো করা বা আগ্রহ বাড়ানো', 45], 'whew': ['স্বস্তি বা বিস্ময়ের শব্দ', 40], 'whid': ['দ্রুত ও হালকাভাবে নড়াচড়া করা', 60], 'whig': ['একটি ঐতিহাসিক রাজনৈতিক দল', 60], 'whim': ['হঠাৎ আসা ইচ্ছা বা খেয়াল', 45], 'whin': ['এক ধরণের কাঁটাযুক্ত গুল্ম', 60], 'whyo': ['কেন, ওহ (প্রশ্ন বা বিস্ময়)', 50], 'whip': ['চাবুক বা দ্রুত আঘাত করা', 25], 'whir': ['দ্রুত ঘূর্ণনের শব্দ', 45], 'whys': ['কারণ বা যুক্তি', 15], 'whit': ['সামান্যতম পরিমাণ বা অংশ', 55], 'whiz': ['দ্রুত শব্দ করে চলা', 45], 'whoa': ['থামার জন্য ব্যবহৃত শব্দ', 35], 'whod': ['কে করেছিল বা কার ছিল', 50], 'whom': ['কাকে বা যার প্রতি', 20], 'whoo': ['আনন্দ বা উত্তেজনা প্রকাশে ব্যবহৃত শব্দ', 45], 'whop': ['জোরে বা সজোরে আঘাত করা', 55], 'whse': ['গোডাউন বা গুদামঘর', 60], 'whud': ['ভারী বস্তুর পতনের শব্দ', 55], 'whun': ['কখন (আঞ্চলিক ব্যবহার)', 70], 'whup': ['প্রহার করা বা আঘাত করা', 55], 'whuz': ['ছিল (আঞ্চলিক বা অনানুষ্ঠানিক)', 60], 'wice': ['জ্ঞানী বা বুদ্ধিমান (পুরাতন ব্যবহার)', 70], 'wich': ['কোনটি (পুরাতন ব্যবহার)', 70]}\n",
      "Done\n",
      "Runing for ---------- file_71\n"
     ]
    },
    {
     "name": "stderr",
     "output_type": "stream",
     "text": [
      "E0000 00:00:1760077069.934794   13874 alts_credentials.cc:93] ALTS creds ignored. Not running on GCP and untrusted ALTS is not enabled.\n"
     ]
    },
    {
     "name": "stdout",
     "output_type": "stream",
     "text": [
      "{'wych': ['এলম গাছের একটি প্রকার', 60], 'wick': ['মোমবাতির সলতে', 20], 'wide': ['চওড়া', 5], 'wyde': ['চওড়া', 5], 'widu': ['কাঠ', 30], 'wied': ['কাঠ', 50], 'wyes': ['ওয়াই-আকৃতির সংযোগ', 70], 'wife': ['স্ত্রী', 5], 'wigs': ['পরচুলা', 25], 'wyke': ['ছোট খাঁড়ি', 30], 'wild': ['বন্য', 10], 'wile': ['কৌশল', 40], 'wyle': ['কৌশল', 40], 'wily': ['ধূর্ত', 45], 'wilk': ['এক ধরণের সামুদ্রিক শামুক', 65], 'will': ['ইচ্ছা', 5], 'wilt': ['নেতিয়ে পড়া', 35], 'wime': ['ঘোরাঘুরি করা', 70], 'wind': ['বাতাস', 10], 'wynd': ['সরু পথ বা গলি', 60], 'wine': ['মদ', 15], 'wyne': ['মদ', 15], 'wing': ['ডানা', 10], 'winy': ['মদের মতো গন্ধযুক্ত', 50], 'wink': ['চোখ মারা', 20], 'wynn': ['একটি প্রাচীন ইংরেজি অক্ষর', 80], 'wino': ['মদ্যপ ব্যক্তি', 40], 'wins': ['জয় লাভ করে', 10], 'wint': ['গিয়েছিল', 50], 'wipe': ['মোছা', 15], 'wype': ['মোছা', 15], 'wips': ['মোছে', 50], 'wird': ['ভাগ্য', 60], 'wire': ['তার', 15], 'wiry': ['তারের মতো', 40], 'wirl': ['ঘোরা', 60], 'wirr': ['ঘূর্ণন শব্দ', 60], 'wise': ['জ্ঞানী', 10], 'wish': ['ইচ্ছা', 10], 'wisp': ['ছোট গুচ্ছ', 45], 'wiss': ['জানা', 60], 'wyss': ['একটি পদবি', 80], 'wist': ['জানা ছিল', 60], 'wite': ['দোষারোপ', 65], 'wyte': ['দোষারোপ', 65], 'with': ['সঙ্গে', 5], 'wits': ['বুদ্ধি', 30], 'wive': ['বিয়ে করা', 50], 'wyve': ['বিয়ে করা', 50], 'wiwi': ['অপরিচিত শব্দ', 90], 'wkly': ['সাপ্তাহিক', 40], 'woad': ['একটি নীল রং উৎপাদনকারী উদ্ভিদ', 65], 'woak': ['জেগেছিল', 40], 'woan': ['জিতেছিল', 40], 'wode': ['ক্ষিপ্ত', 65], 'woes': ['দুঃখ', 35], 'woft': ['ভাসিয়ে নিয়ে গিয়েছিল', 70], 'woke': ['জেগেছিল', 10], 'woks': ['চাইনিজ রান্নার কড়াই', 30], 'wold': ['খোলা, উন্মুক্ত ভূমি', 60], 'wolf': ['নেকড়ে', 15], 'womb': ['জরায়ু', 40], 'womp': ['ভারী শব্দ করা', 60], 'wone': ['বাস করা', 65], 'wong': ['একটি পদবি', 70], 'wonk': ['অত্যধিক অধ্যয়নকারী ব্যক্তি', 55], 'wons': ['বাস করে', 65], 'wont': ['অভ্যাস', 45], 'wood': ['কাঠ', 5], 'woof': ['কুকুরের ডাক', 35], 'wool': ['পশম', 15], 'woom': ['জরায়ু', 40], 'woon': ['জিতেছিল', 40], 'woos': ['প্রেম নিবেদন করা', 45], 'word': ['শব্দ', 5], 'wore': ['পরিধান করেছিল', 10], 'work': ['কাজ', 5], 'worm': ['কৃমি', 15], 'worn': ['জীর্ণ', 20], 'wort': ['উদ্ভিদ', 50], 'wost': ['জানা ছিল', 60], 'wote': ['জানা', 60], 'wots': ['জানে', 60], 'wouf': ['কুকুরের ডাক', 40], 'wove': ['বুনেছিল', 20], 'wows': ['মুগ্ধ করা', 40], 'wowt': ['ভোট', 60], 'wraf': ['বিমান বাহিনীর নারী শাখা', 75], 'wray': ['একটি পদবি', 70], 'wran': ['ছোট পাখি বিশেষ', 60], 'wrap': ['মোড়ানো', 15], 'wraw': ['ক্রোধ', 65], 'wren': ['ছোট পাখি বিশেষ', 40], 'wrig': ['নড়াচড়া করা', 60], 'writ': ['লিখিত আদেশ', 45], 'wrnt': ['আদেশপত্র', 70], 'wrox': ['একটি স্থান বা নাম', 80], 'wudu': ['কাঠ', 30], 'wuff': ['কুকুরের ডাক', 40]}\n",
      "Done\n",
      "Runing for ---------- file_72\n"
     ]
    },
    {
     "name": "stderr",
     "output_type": "stream",
     "text": [
      "E0000 00:00:1760077111.036273   13874 alts_credentials.cc:93] ALTS creds ignored. Not running on GCP and untrusted ALTS is not enabled.\n"
     ]
    },
    {
     "name": "stdout",
     "output_type": "stream",
     "text": [
      "2\n",
      "Re-Run\n"
     ]
    },
    {
     "name": "stderr",
     "output_type": "stream",
     "text": [
      "E0000 00:00:1760077156.758232   13874 alts_credentials.cc:93] ALTS creds ignored. Not running on GCP and untrusted ALTS is not enabled.\n"
     ]
    },
    {
     "name": "stdout",
     "output_type": "stream",
     "text": [
      "{'wugg': ['একটি কাল্পনিক বা অপ্রচলিত শব্দ', 60], 'wulk': ['একটি অপ্রচলিত শব্দ', 65], 'wull': ['একটি অপ্রচলিত বা বিরল শব্দ', 65], 'wush': ['একটি কাল্পনিক বা বিরল শব্দ', 60], 'wusp': ['একটি অপ্রচলিত বা সৃষ্ট শব্দ', 65], 'wuss': ['ভীতু বা দুর্বল ব্যক্তি', 40], 'wust': ['একটি অপ্রচলিত বা অজানা শব্দ', 65], 'wuzu': ['ইসলামে আনুষ্ঠানিক শুদ্ধিকরণ', 70], 'xctl': ['একটি প্রোগ্রামের নিয়ন্ত্রণ নির্দেশিকা', 80], 'xdiv': ['একচেটিয়া বা পারস্পরিক বিভাগ', 75], 'xema': ['এক প্রকার সামুদ্রিক পাখি', 75], 'xeme': ['এক প্রকার বিরল পাখি', 70], 'xiii': ['তেরো (রোমান সংখ্যা)', 25], 'xyla': ['কাঠ সম্পর্কিত একটি উপসর্গ', 70], 'xylo': ['কাঠ বা কাঠের জিনিস সম্পর্কিত', 65], 'xina': ['একটি ব্যক্তিগত নাম', 60], 'xint': ['একটি অজানা বা সংক্ষিপ্ত শব্দ', 70], 'xipe': ['একটি অপ্রচলিত বা কাল্পনিক শব্দ', 65], 'xyst': ['ব্যায়ামের জন্য ব্যবহৃত লম্বা বারান্দা', 80], 'xmas': ['বড়দিন (খ্রিস্টানদের উৎসব)', 15], 'xosa': ['দক্ষিণ আফ্রিকার একটি জাতিগোষ্ঠী', 60], 'xray': ['এক প্রকার উচ্চ-শক্তির বিকিরণ', 35], 'xref': ['অন্যত্র উল্লেখ বা নির্দেশ', 60], 'xvii': ['সতেরো (রোমান সংখ্যা)', 25], 'xxii': ['বাইশ (রোমান সংখ্যা)', 25], 'xxiv': ['চব্বিশ (রোমান সংখ্যা)', 25], 'zach': ['একটি ছেলের নাম', 10], 'zack': ['একটি ছেলের নাম', 10], 'zags': ['দ্রুত দিক পরিবর্তন করা', 35], 'zain': ['এক প্রকার ঘোড়া বা একটি নাম', 60], 'zany': ['মজার বা অদ্ভুত আচরণযুক্ত', 40], 'zant': ['একটি অপ্রচলিত বা কাল্পনিক শব্দ', 65], 'zaps': ['হঠাৎ আক্রমণ বা ধ্বংস করা', 40], 'zarf': ['কফি কাপের শোভাময় ধারক', 75], 'zarp': ['পুলিশ কর্মকর্তা (দক্ষিণ আফ্রিকার অপভাষা)', 70], 'zati': ['একটি অজানা বা বিশেষ শব্দ', 70], 'zeal': ['প্রচুর উৎসাহ বা উদ্দীপনা', 30], 'zebu': ['কুঁজযুক্ত এক প্রকার গরু', 50], 'zeds': ['ইংরেজী বর্ণমালার শেষ অক্ষর (Z-এর বহুবচন)', 20], 'zeed': ['একটি অপ্রচলিত বা কাল্পনিক শব্দ', 65], 'zees': ['ইংরেজী বর্ণমালার শেষ অক্ষর (Z-এর বহুবচন)', 20], 'zein': ['ভুট্টায় প্রাপ্ত একটি প্রোটিন', 70], 'zeke': ['একটি ছেলের নাম', 10], 'zeks': ['সোভিয়েত শ্রমশিবিরের বন্দী', 80], 'zeme': ['লিথুয়ানিয়ান পুরাণের দেবী', 75], 'zemi': ['টাইনো জাতির দেব বা আত্মা', 75], 'zend': ['একটি প্রাচীন ইরানী ভাষা', 70], 'zenu': ['একটি অজানা বা বিশেষ শব্দ', 70], 'zero': ['শূন্য সংখ্যা বা কিছুই না', 5], 'zest': ['প্রচুর উৎসাহ এবং শক্তি', 30], 'zeta': ['গ্রীক বর্ণমালার ষষ্ঠ অক্ষর', 50], 'zeus': ['গ্রীক পুরাণের দেবতাদের রাজা', 40], 'ziff': ['দাড়ি (অস্ট্রেলিয়ান অপভাষা)', 70], 'zyga': ['জোড়া বা যুগল বোঝানো উপসর্গ', 80], 'zigs': ['দ্রুত বাঁক বা দিক পরিবর্তন', 35], 'zila': ['বাংলাদেশের একটি প্রশাসনিক জেলা', 40], 'zill': ['ছোট আকারের একজোড়া করতাল', 65], 'zimb': ['আফ্রিকার একটি বড় কামড়ানো মাছি', 75], 'zyme': ['একটি জৈব অনুঘটক', 70], 'zinc': ['একটি রাসায়নিক মৌল, ধাতু', 35], 'zing': ['শক্তি, উৎসাহ বা তীক্ষ্ণ শব্দ', 35], 'zink': ['একটি রাসায়নিক মৌল, ধাতু (জিঙ্কের বিকল্প বানান)', 35], 'zion': ['জেরুজালেমের একটি বাইবেলীয় পাহাড়', 60], 'zipa': ['একটি অজানা বা বিশেষ শব্দ', 70], 'zips': ['পোশাকের ফাস্টেনার; দ্রুত চলাচল করা', 30], 'zira': ['এক প্রকার শস্য বা উদ্ভিদ', 70], 'ziti': ['এক প্রকার ইতালীয় পাস্তা', 50], 'zits': ['ব্রণ বা ছোট ফুসকুড়ি', 40], 'zizz': ['সংক্ষিপ্ত ঘুম বা তন্দ্রা', 60], 'zobo': ['হিবিস্কাস ফুল থেকে তৈরি পানীয়', 75], 'zoea': ['ক্রাস্টেশিয়ানদের লার্ভা দশা', 80], 'zogo': ['একটি অজানা বা বিরল শব্দ', 70], 'zoic': ['প্রাণী সংক্রান্ত বা প্রাণী সম্পর্কিত', 70], 'zoid': ['একটি একক প্রাণী বা জুইড', 75], 'zoll': ['পরিমাপের একটি একক (জার্মান শব্দ)', 75], 'zona': ['একটি অঞ্চল বা পরিধি; ত্বকের রোগ', 70], 'zone': ['একটি অঞ্চল বা এলাকা', 15], 'zool': ['প্রাণীবিদ্যা (প্রাণী অধ্যয়ন)', 60], 'zoom': ['দ্রুত গতিতে চলা বা ক্যামেরার ফোকাস পরিবর্তন', 25], 'zoon': ['একটি একক প্রাণী', 70], 'zoos': ['পশুপাখির সংগ্রহশালা (চিড়িয়াখানা)', 10], 'zori': ['এক প্রকার জাপানি স্যান্ডেল', 60], 'zubr': ['ইউরোপীয় বাইসন (এক প্রকার বুনো গরু)', 75], 'zulu': ['দক্ষিণ আফ্রিকার একটি জাতিগোষ্ঠী', 60], 'zuni': ['একটি আদিবাসী আমেরিকান উপজাতি', 60], 'zuza': ['একটি ব্যক্তিগত নাম', 60]}\n",
      "Done\n"
     ]
    }
   ],
   "source": [
    "import time\n",
    "\n",
    "for i in range(60,72+1):\n",
    "    file_names = f\"file_4_token_{i}_.text\"\n",
    "    file_to_save = f\"file_4_token_{i}_output.json\"\n",
    "\n",
    "    print(f\"Runing for ---------- file_{i}\")\n",
    "   \n",
    "    with open(file_names , \"r\") as f:\n",
    "        words = f.read().strip()\n",
    "    \n",
    "    words = words.split(\",\")\n",
    "    str_words = \"\"\n",
    "    \n",
    "    for j in words:\n",
    "        str_words += j.strip() + \",\"\n",
    "\n",
    "    while True:\n",
    "            response = structured_call(str_words)\n",
    "            cleaned_data = clearn_and_cheak(response)\n",
    "            if cleaned_data is not None:\n",
    "                print(cleaned_data)\n",
    "                break\n",
    "            else:\n",
    "                print(\"Re-Run\")\n",
    "                time.sleep(20)\n",
    "\n",
    "\n",
    "    with open(file_to_save , \"w\") as f:\n",
    "        json.dump(cleaned_data , f , indent=4 , ensure_ascii=False)   #type: ignore\n",
    "    print(\"Done\")\n"
   ]
  },
  {
   "cell_type": "code",
   "execution_count": null,
   "id": "fbb47bd0",
   "metadata": {},
   "outputs": [],
   "source": []
  },
  {
   "cell_type": "code",
   "execution_count": null,
   "id": "66778591",
   "metadata": {},
   "outputs": [],
   "source": []
  },
  {
   "cell_type": "code",
   "execution_count": null,
   "id": "4d0f8a9b",
   "metadata": {},
   "outputs": [],
   "source": []
  },
  {
   "cell_type": "code",
   "execution_count": null,
   "id": "0bd933e5",
   "metadata": {},
   "outputs": [],
   "source": []
  },
  {
   "cell_type": "code",
   "execution_count": null,
   "id": "66d7c829",
   "metadata": {},
   "outputs": [],
   "source": []
  }
 ],
 "metadata": {
  "kernelspec": {
   "display_name": "Python 3",
   "language": "python",
   "name": "python3"
  },
  "language_info": {
   "codemirror_mode": {
    "name": "ipython",
    "version": 3
   },
   "file_extension": ".py",
   "mimetype": "text/x-python",
   "name": "python",
   "nbconvert_exporter": "python",
   "pygments_lexer": "ipython3",
   "version": "3.12.3"
  }
 },
 "nbformat": 4,
 "nbformat_minor": 5
}
