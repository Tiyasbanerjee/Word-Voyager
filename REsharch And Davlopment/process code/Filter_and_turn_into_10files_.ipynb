{
 "cells": [
  {
   "cell_type": "code",
   "execution_count": 25,
   "id": "da6d3e3e",
   "metadata": {},
   "outputs": [
    {
     "name": "stdout",
     "output_type": "stream",
     "text": [
      "Processing data from score 1 to 10...\n",
      "Loading data from scoore_1_.json...\n",
      "Loading data from scoore_2_.json...\n",
      "Loading data from scoore_3_.json...\n",
      "Loading data from scoore_4_.json...\n",
      "Loading data from scoore_5_.json...\n",
      "Loading data from scoore_6_.json...\n",
      "Loading data from scoore_7_.json...\n",
      "Loading data from scoore_8_.json...\n",
      "Loading data from scoore_9_.json...\n",
      "Loading data from scoore_10_.json...\n",
      "Processing data from score 11 to 20...\n",
      "Loading data from scoore_11_.json...\n",
      "Loading data from scoore_12_.json...\n",
      "Loading data from scoore_13_.json...\n",
      "Loading data from scoore_14_.json...\n",
      "Loading data from scoore_15_.json...\n",
      "Loading data from scoore_16_.json...\n",
      "Loading data from scoore_17_.json...\n",
      "Loading data from scoore_18_.json...\n",
      "Loading data from scoore_19_.json...\n",
      "Loading data from scoore_20_.json...\n",
      "Processing data from score 21 to 30...\n",
      "Loading data from scoore_21_.json...\n",
      "Loading data from scoore_22_.json...\n",
      "Loading data from scoore_23_.json...\n",
      "Loading data from scoore_24_.json...\n",
      "Loading data from scoore_25_.json...\n",
      "Loading data from scoore_26_.json...\n",
      "Loading data from scoore_27_.json...\n",
      "Loading data from scoore_28_.json...\n",
      "Loading data from scoore_29_.json...\n",
      "Loading data from scoore_30_.json...\n",
      "Processing data from score 31 to 40...\n",
      "Loading data from scoore_31_.json...\n",
      "Loading data from scoore_32_.json...\n",
      "Loading data from scoore_33_.json...\n",
      "Loading data from scoore_34_.json...\n",
      "Loading data from scoore_35_.json...\n",
      "Loading data from scoore_36_.json...\n",
      "Loading data from scoore_37_.json...\n",
      "Loading data from scoore_38_.json...\n",
      "Loading data from scoore_39_.json...\n",
      "Loading data from scoore_40_.json...\n",
      "Processing data from score 41 to 50...\n",
      "Loading data from scoore_41_.json...\n",
      "Loading data from scoore_42_.json...\n",
      "Loading data from scoore_43_.json...\n",
      "Loading data from scoore_44_.json...\n",
      "Loading data from scoore_45_.json...\n",
      "Loading data from scoore_46_.json...\n",
      "Loading data from scoore_47_.json...\n",
      "Loading data from scoore_48_.json...\n",
      "Loading data from scoore_49_.json...\n",
      "Loading data from scoore_50_.json...\n",
      "Processing data from score 51 to 60...\n",
      "Loading data from scoore_51_.json...\n",
      "Loading data from scoore_52_.json...\n",
      "Loading data from scoore_53_.json...\n",
      "Loading data from scoore_54_.json...\n",
      "Loading data from scoore_55_.json...\n",
      "Loading data from scoore_56_.json...\n",
      "Loading data from scoore_57_.json...\n",
      "Loading data from scoore_58_.json...\n",
      "Loading data from scoore_59_.json...\n",
      "Loading data from scoore_60_.json...\n",
      "Processing data from score 61 to 70...\n",
      "Loading data from scoore_61_.json...\n",
      "Loading data from scoore_62_.json...\n",
      "Loading data from scoore_63_.json...\n",
      "Loading data from scoore_64_.json...\n",
      "Loading data from scoore_65_.json...\n",
      "Loading data from scoore_66_.json...\n",
      "Loading data from scoore_67_.json...\n",
      "Loading data from scoore_68_.json...\n",
      "Loading data from scoore_69_.json...\n",
      "Loading data from scoore_70_.json...\n",
      "Processing data from score 71 to 80...\n",
      "Loading data from scoore_71_.json...\n",
      "Loading data from scoore_72_.json...\n",
      "Loading data from scoore_73_.json...\n",
      "Loading data from scoore_74_.json...\n",
      "Loading data from scoore_75_.json...\n",
      "Loading data from scoore_76_.json...\n",
      "Loading data from scoore_77_.json...\n",
      "Loading data from scoore_78_.json...\n",
      "Loading data from scoore_79_.json...\n",
      "Loading data from scoore_80_.json...\n",
      "Processing data from score 81 to 90...\n",
      "Loading data from scoore_81_.json...\n",
      "Loading data from scoore_82_.json...\n",
      "Loading data from scoore_83_.json...\n",
      "Loading data from scoore_84_.json...\n",
      "Loading data from scoore_85_.json...\n",
      "Loading data from scoore_86_.json...\n",
      "Loading data from scoore_87_.json...\n",
      "Loading data from scoore_88_.json...\n",
      "Loading data from scoore_89_.json...\n",
      "Loading data from scoore_90_.json...\n",
      "Processing data from score 91 to 100...\n",
      "Loading data from scoore_91_.json...\n",
      "Loading data from scoore_92_.json...\n",
      "Loading data from scoore_93_.json...\n",
      "Loading data from scoore_94_.json...\n",
      "Loading data from scoore_95_.json...\n",
      "Loading data from scoore_96_.json...\n",
      "Loading data from scoore_97_.json...\n",
      "Loading data from scoore_98_.json...\n",
      "Loading data from scoore_99_.json...\n",
      "Loading data from scoore_100_.json...\n"
     ]
    }
   ],
   "source": [
    "import json\n",
    "\n",
    "for i  in range(0 , 100 , 10 ):\n",
    "    strt = i+1\n",
    "    end = i+10\n",
    "    store_data_ = {}\n",
    "\n",
    "    print(f\"Processing data from score {strt} to {end}...\")\n",
    "\n",
    "    for j in range(strt , end + 1):\n",
    "        file_name = f\"scoore_{j}_.json\"\n",
    "        \n",
    "        try:\n",
    "\n",
    "            print(f\"Loading data from {file_name}...\")\n",
    "\n",
    "            with open(file_name, 'r') as file:\n",
    "                \n",
    "                data = json.load(file)\n",
    "\n",
    "                store_data_.update(data)\n",
    "            \n",
    "               \n",
    "        except FileNotFoundError:\n",
    "            continue\n",
    "\n",
    "        with open(f\"data_{strt}_to_{end}.json\" , \"w\") as file:\n",
    "            json.dump(store_data_ , file , indent=4,  ensure_ascii=False)   \n",
    "\n"
   ]
  },
  {
   "cell_type": "markdown",
   "id": "fa45ea18",
   "metadata": {},
   "source": [
    "<h1>i have turned all 100 files into 10 files.</h1>"
   ]
  },
  {
   "cell_type": "code",
   "execution_count": 26,
   "id": "d71715d2",
   "metadata": {},
   "outputs": [],
   "source": [
    "data_length = []\n",
    "for i  in range(0 , 100 , 10 ):\n",
    "    strt = i+1\n",
    "    end = i+10\n",
    "\n",
    "    file_name = f\"data_{strt}_to_{end}.json\"\n",
    "        \n",
    "\n",
    "\n",
    "\n",
    "    with open(file_name, 'r') as file:\n",
    "                \n",
    "        data = json.load(file)\n",
    "\n",
    "    length_of_data = len(data)\n",
    "    data_length.append(length_of_data)\n",
    "            \n",
    "\n",
    "\n"
   ]
  },
  {
   "cell_type": "code",
   "execution_count": 28,
   "id": "90bb0aa7",
   "metadata": {},
   "outputs": [
    {
     "name": "stdout",
     "output_type": "stream",
     "text": [
      "[2987, 8319, 18596, 33808, 41794, 61925, 76908, 66404, 51705, 6258]\n",
      "368704\n"
     ]
    }
   ],
   "source": [
    "print(data_length)\n",
    "print(sum(data_length))"
   ]
  },
  {
   "cell_type": "code",
   "execution_count": 30,
   "id": "1d67a8d2",
   "metadata": {},
   "outputs": [
    {
     "data": {
      "image/png": "[encoded data removed]",
      "text/plain": [
       "<Figure size 640x480 with 1 Axes>"
      ]
     },
     "metadata": {},
     "output_type": "display_data"
    }
   ],
   "source": [
    "import matplotlib.pyplot as plt\n",
    "\n",
    "plt.bar(range(1, 11), data_length)\n",
    "plt.xticks(range(1, 11), [f\"{i*10+1}-{(i+1)*10}\" for i in range(10)])\n",
    "plt.xlabel(\"Score Ranges\")\n",
    "plt.ylabel(\"Number of Entries\")\n",
    "plt.title(\"Number of Entries per Score Range\")\n",
    "plt.grid(axis='y')\n",
    "plt.savefig(\"entries_per_score_range.png\")\n",
    "plt.show()"
   ]
  },
  {
   "cell_type": "code",
   "execution_count": null,
   "id": "c72be63b",
   "metadata": {},
   "outputs": [],
   "source": []
  },
  {
   "cell_type": "code",
   "execution_count": null,
   "id": "d6cd7890",
   "metadata": {},
   "outputs": [],
   "source": []
  },
  {
   "cell_type": "code",
   "execution_count": null,
   "id": "5b547a73",
   "metadata": {},
   "outputs": [],
   "source": []
  },
  {
   "cell_type": "code",
   "execution_count": null,
   "metadata": {},
   "outputs": [],
   "source": []
  },
  {
   "cell_type": "code",
   "execution_count": null,
   "metadata": {},
   "outputs": [],
   "source": []
  },
  {
   "cell_type": "code",
   "execution_count": null,
   "metadata": {},
   "outputs": [],
   "source": []
  }
 ],
 "metadata": {
  "kernelspec": {
   "display_name": ".venv",
   "language": "python",
   "name": "python3"
  },
  "language_info": {
   "codemirror_mode": {
    "name": "ipython",
    "version": 3
   },
   "file_extension": ".py",
   "mimetype": "text/x-python",
   "name": "python",
   "nbconvert_exporter": "python",
   "pygments_lexer": "ipython3",
   "version": "3.12.3"
  }
 },
 "nbformat": 4,
 "nbformat_minor": 5
}
